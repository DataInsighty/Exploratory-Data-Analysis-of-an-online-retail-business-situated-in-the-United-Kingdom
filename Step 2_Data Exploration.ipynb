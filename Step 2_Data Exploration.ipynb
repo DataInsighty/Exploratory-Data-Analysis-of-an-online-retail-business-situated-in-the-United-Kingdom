{
 "cells": [
  {
   "cell_type": "markdown",
   "id": "223bb9d4",
   "metadata": {},
   "source": [
    "# Step 2: Data Exploration "
   ]
  },
  {
   "cell_type": "code",
   "execution_count": null,
   "id": "8f50060b",
   "metadata": {},
   "outputs": [],
   "source": [
    "# displaying the first few rows of the dataset\n",
    "df.head()"
   ]
  },
  {
   "cell_type": "code",
   "execution_count": null,
   "id": "5c07c53f",
   "metadata": {},
   "outputs": [],
   "source": [
    "# Information of dataset \n",
    "df.info()"
   ]
  },
  {
   "cell_type": "code",
   "execution_count": null,
   "id": "bc52a69c",
   "metadata": {},
   "outputs": [],
   "source": [
    "# Checking no of rows\n",
    "len(df)"
   ]
  },
  {
   "cell_type": "code",
   "execution_count": null,
   "id": "9113aaa8",
   "metadata": {},
   "outputs": [],
   "source": [
    "# Checking the dimension of the dataset\n",
    "print(df.shape)"
   ]
  },
  {
   "cell_type": "code",
   "execution_count": null,
   "id": "654c39d9",
   "metadata": {},
   "outputs": [],
   "source": [
    "# Checking number of rows \n",
    "print(df.shape[0])"
   ]
  },
  {
   "cell_type": "code",
   "execution_count": null,
   "id": "e2eb35bd",
   "metadata": {},
   "outputs": [],
   "source": [
    "# Checking for number of columns\n",
    "print(df.shape[1])"
   ]
  },
  {
   "cell_type": "code",
   "execution_count": null,
   "id": "ff58e255",
   "metadata": {},
   "outputs": [],
   "source": [
    "# Summary statistics of dataset\n",
    "df.describe()"
   ]
  },
  {
   "cell_type": "code",
   "execution_count": null,
   "id": "762631b4",
   "metadata": {},
   "outputs": [],
   "source": [
    "# Checking for missing values\n",
    "df.isnull().sum()"
   ]
  },
  {
   "cell_type": "code",
   "execution_count": null,
   "id": "62887bae",
   "metadata": {},
   "outputs": [],
   "source": [
    "#Selecting and displaying the numerical columns (float64 and int64) from the DataFrame.\n",
    "df_num = df.select_dtypes(include = ['float64', 'int64'])\n",
    "df_num.head()"
   ]
  },
  {
   "cell_type": "markdown",
   "id": "156fde15",
   "metadata": {},
   "source": [
    "### 2.1 Invoice Number"
   ]
  },
  {
   "cell_type": "code",
   "execution_count": null,
   "id": "048bc877",
   "metadata": {},
   "outputs": [],
   "source": [
    "# Checking unique values and value counts of Invoice Column\n",
    "print(df[\"Invoice\"].value_counts())"
   ]
  },
  {
   "cell_type": "code",
   "execution_count": null,
   "id": "fd3a4f58",
   "metadata": {},
   "outputs": [],
   "source": [
    "# Get the unique values in the 'name' column\n",
    "unique_Invoice = df['Invoice'].unique()\n",
    "\n",
    "# Print the unique values on a new line\n",
    "for invoice in unique_Invoice:\n",
    "    print(f'{invoice}')### 2.1 Invoice Number"
   ]
  },
  {
   "cell_type": "markdown",
   "id": "5bda4e08",
   "metadata": {},
   "source": [
    "### 2.2 Stock Code"
   ]
  },
  {
   "cell_type": "code",
   "execution_count": null,
   "id": "44d92b81",
   "metadata": {},
   "outputs": [],
   "source": [
    "#Checking unique values and value counts of StockCode Column\n",
    "print(df[\"StockCode\"].value_counts())"
   ]
  },
  {
   "cell_type": "code",
   "execution_count": null,
   "id": "f8b938fa",
   "metadata": {},
   "outputs": [],
   "source": [
    "# Get the unique values in the 'name' column\n",
    "unique_StockCode = df['StockCode'].unique()\n",
    "\n",
    "# Print the unique values on a new line\n",
    "for stockcode in unique_StockCode:\n",
    "    print(f'{stockcode}')"
   ]
  },
  {
   "cell_type": "markdown",
   "id": "a26d78c3",
   "metadata": {},
   "source": [
    "### 2.3 Product Description"
   ]
  },
  {
   "cell_type": "code",
   "execution_count": null,
   "id": "282eb28f",
   "metadata": {},
   "outputs": [],
   "source": [
    "unique_Description = df['Description'].unique()\n",
    "\n",
    "# Print the unique values on a new line\n",
    "for description in unique_Description:\n",
    "    print(f'{description}')"
   ]
  },
  {
   "cell_type": "code",
   "execution_count": null,
   "id": "6f6d2033",
   "metadata": {
    "scrolled": true
   },
   "outputs": [],
   "source": [
    "#Checking unique values and value counts of Description Column\n",
    "print(df[\"Description\"].value_counts())"
   ]
  },
  {
   "cell_type": "markdown",
   "id": "985ae222",
   "metadata": {},
   "source": [
    "### 2.4 Product Quantity"
   ]
  },
  {
   "cell_type": "code",
   "execution_count": null,
   "id": "5f061fa4",
   "metadata": {},
   "outputs": [],
   "source": [
    "Qua_list = df['Quantity']\n",
    "\n",
    "# Summary statistics of dataset\n",
    "Qua_list.describe().astype(int)"
   ]
  },
  {
   "cell_type": "code",
   "execution_count": null,
   "id": "98692d1b",
   "metadata": {
    "scrolled": false
   },
   "outputs": [],
   "source": [
    "#Checking unique values and value counts of Quantity Column\n",
    "print(df[\"Quantity\"].value_counts())"
   ]
  },
  {
   "cell_type": "code",
   "execution_count": null,
   "id": "9fdb321c",
   "metadata": {},
   "outputs": [],
   "source": [
    "unique_Quantity = df['Quantity'].unique()\n",
    "\n",
    "# Print the unique values on a new line\n",
    "for quantity in unique_Quantity:\n",
    "    print(f'{quantity}')"
   ]
  },
  {
   "cell_type": "code",
   "execution_count": null,
   "id": "2e63c4d9",
   "metadata": {},
   "outputs": [],
   "source": [
    "# Checking zero values in Quantity column\n",
    "column = df['Quantity']\n",
    "count_zero_values = sum(column == 0)\n",
    "print(count_zero_values)"
   ]
  },
  {
   "cell_type": "code",
   "execution_count": null,
   "id": "d1caf4e6",
   "metadata": {},
   "outputs": [],
   "source": [
    "# Checking negaive values in Quantity column\n",
    "column = df['Quantity']\n",
    "count_negative_values = sum(column < 0)\n",
    "print(count_negative_values)"
   ]
  },
  {
   "cell_type": "code",
   "execution_count": null,
   "id": "fe9b7272",
   "metadata": {},
   "outputs": [],
   "source": [
    "# Box plot: to identify outliers in the Quantity variable.\n",
    "\n",
    "# Generate a box plot\n",
    "plt.figure(figsize=(10, 3))\n",
    "plt.boxplot(df['Quantity'])\n",
    "plt.xlabel(\"Quantity\")\n",
    "plt.ylabel(\"Value\")\n",
    "plt.title(\"Box Plot of Quantity\")\n",
    "plt.show()"
   ]
  },
  {
   "cell_type": "markdown",
   "id": "fca113dd",
   "metadata": {},
   "source": [
    "### 2.5 Unit Price"
   ]
  },
  {
   "cell_type": "code",
   "execution_count": null,
   "id": "ff1e9919",
   "metadata": {},
   "outputs": [],
   "source": [
    "Price_list = df['Price']\n",
    "Price_list.describe().astype(int)"
   ]
  },
  {
   "cell_type": "code",
   "execution_count": null,
   "id": "aef9993d",
   "metadata": {
    "scrolled": true
   },
   "outputs": [],
   "source": [
    "#Checking unique values and value counts of Price Column\n",
    "print(df[\"Price\"].value_counts())"
   ]
  },
  {
   "cell_type": "code",
   "execution_count": null,
   "id": "ee4c5c69",
   "metadata": {},
   "outputs": [],
   "source": [
    "unique_Price = df['Price'].unique()\n",
    "\n",
    "# Print the unique values on a new line\n",
    "for price in unique_Price:\n",
    "    print(f'{price}')"
   ]
  },
  {
   "cell_type": "code",
   "execution_count": null,
   "id": "49de7b09",
   "metadata": {},
   "outputs": [],
   "source": [
    "# Checking zero values in Price column\n",
    "column = df['Price']\n",
    "count_zero_values = sum(column == 0)\n",
    "print(count_zero_values)"
   ]
  },
  {
   "cell_type": "code",
   "execution_count": null,
   "id": "905a28d6",
   "metadata": {},
   "outputs": [],
   "source": [
    "# Checking negative values in Price column\n",
    "column = df['Price']\n",
    "count_negative_values = sum(column < 0)\n",
    "print(count_negative_values)"
   ]
  },
  {
   "cell_type": "code",
   "execution_count": null,
   "id": "138ec892",
   "metadata": {},
   "outputs": [],
   "source": [
    "# Box plot: to identify outliers in the Quantity variable.\n",
    "\n",
    "# Generate a box plot\n",
    "plt.figure(figsize=(10, 3))\n",
    "plt.boxplot(df['Price'])\n",
    "plt.xlabel(\"Price\")\n",
    "plt.ylabel(\"Value\")\n",
    "plt.title(\"Box Plot of Price\")\n",
    "plt.show()"
   ]
  },
  {
   "cell_type": "markdown",
   "id": "3464c8c4",
   "metadata": {},
   "source": [
    "### 2.6 Invoice Date"
   ]
  },
  {
   "cell_type": "code",
   "execution_count": null,
   "id": "483ede79",
   "metadata": {
    "scrolled": true
   },
   "outputs": [],
   "source": [
    "#Checking unique values and value counts of Invoice Date Column\n",
    "print(df[\"InvoiceDate\"].value_counts())"
   ]
  },
  {
   "cell_type": "code",
   "execution_count": null,
   "id": "c3dc2bb8",
   "metadata": {},
   "outputs": [],
   "source": [
    "unique_InvoiceDate = df['InvoiceDate'].unique()\n",
    "\n",
    "# Print the unique values on a new line\n",
    "for invoicedate in unique_InvoiceDate:\n",
    "    print(f'{invoicedate}')"
   ]
  },
  {
   "cell_type": "markdown",
   "id": "560772c0",
   "metadata": {},
   "source": [
    "### 2.7 Customer ID"
   ]
  },
  {
   "cell_type": "code",
   "execution_count": null,
   "id": "a7698193",
   "metadata": {},
   "outputs": [],
   "source": [
    "#Checking unique values and value counts of Customer ID Column\n",
    "print(df[\"Customer ID\"].value_counts())"
   ]
  },
  {
   "cell_type": "code",
   "execution_count": null,
   "id": "038a0f33",
   "metadata": {},
   "outputs": [],
   "source": [
    "unique_Customer = df['Customer ID'].unique()\n",
    "\n",
    "# Print the unique values on a new line\n",
    "for customer_id in unique_Customer:\n",
    "    print(f'{customer_id}')"
   ]
  },
  {
   "cell_type": "markdown",
   "id": "c0f35acb",
   "metadata": {},
   "source": [
    "### 2.8 Country"
   ]
  },
  {
   "cell_type": "code",
   "execution_count": null,
   "id": "95b3f224",
   "metadata": {},
   "outputs": [],
   "source": [
    "#Checking unique values and value counts of Country Column\n",
    "print(df[\"Country\"].value_counts())"
   ]
  }
 ],
 "metadata": {
  "kernelspec": {
   "display_name": "Python 3 (ipykernel)",
   "language": "python",
   "name": "python3"
  },
  "language_info": {
   "codemirror_mode": {
    "name": "ipython",
    "version": 3
   },
   "file_extension": ".py",
   "mimetype": "text/x-python",
   "name": "python",
   "nbconvert_exporter": "python",
   "pygments_lexer": "ipython3",
   "version": "3.11.3"
  }
 },
 "nbformat": 4,
 "nbformat_minor": 5
}
