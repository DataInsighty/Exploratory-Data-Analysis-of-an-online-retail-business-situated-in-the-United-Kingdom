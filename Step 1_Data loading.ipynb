{
 "cells": [
  {
   "cell_type": "markdown",
   "id": "ef3c2ec2",
   "metadata": {},
   "source": [
    "# Step1: Load the dataset into environment and using appropriate libraries"
   ]
  },
  {
   "cell_type": "code",
   "execution_count": null,
   "id": "3df5b8df",
   "metadata": {},
   "outputs": [],
   "source": [
    "# Importing necessary libraries for Data Analysis \n",
    "import pandas as pd               # Data cleaning and manipulation \n",
    "import numpy as np                # Perform mathematical operations\n",
    "\n",
    "# Importing necessary libraries for Data Visualisation\n",
    "import matplotlib.pyplot as plt               # create a variety of different plots\n",
    "import seaborn as sns                         # create statistical plots\n",
    "from scipy.stats import chi2_contingency      # perform a variety of statistical tests\n",
    "\n",
    "\n",
    "# Read the two datasets into Pandas DataFrames\n",
    "df1 = pd.read_excel('online_retail_II.xlsx', sheet_name='Year 2009-2010')\n",
    "df2 = pd.read_excel('online_retail_II.xlsx', sheet_name='Year 2010-2011')\n",
    "\n",
    "# Merge all columns in the two DataFrames into one data frame\n",
    "df = pd.concat([df1, df2], axis=0)"
   ]
  }
 ],
 "metadata": {
  "kernelspec": {
   "display_name": "Python 3 (ipykernel)",
   "language": "python",
   "name": "python3"
  },
  "language_info": {
   "codemirror_mode": {
    "name": "ipython",
    "version": 3
   },
   "file_extension": ".py",
   "mimetype": "text/x-python",
   "name": "python",
   "nbconvert_exporter": "python",
   "pygments_lexer": "ipython3",
   "version": "3.11.3"
  }
 },
 "nbformat": 4,
 "nbformat_minor": 5
}
