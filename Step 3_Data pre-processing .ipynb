{
 "cells": [
  {
   "cell_type": "markdown",
   "id": "7ae30634",
   "metadata": {},
   "source": [
    "# Step 3:  Data preprocessing"
   ]
  },
  {
   "cell_type": "markdown",
   "id": "43dcd89a",
   "metadata": {},
   "source": [
    "# 3.1 Data cleaning"
   ]
  },
  {
   "cell_type": "markdown",
   "id": "7abbf561",
   "metadata": {},
   "source": [
    "## 3.1.1. Delete canceled/adjusted invoices"
   ]
  },
  {
   "cell_type": "code",
   "execution_count": null,
   "id": "2edf5583",
   "metadata": {},
   "outputs": [],
   "source": [
    "# Create a regular expression pattern to match strings . For identifying stockcodes with any invoices without six digit characters. \n",
    "pattern = '\\d{6}'\n",
    "\n",
    "# Use str.match() to check if each 'Data' value matches the pattern\n",
    "df['Non_Invoice'] = df['Invoice'].str.match(pattern)\n",
    "\n",
    "# Fill NaN values in the 'Non_Invoice' column with True\n",
    "df['Non_Invoice'].fillna(True, inplace=True)\n",
    "\n",
    "# Filter rows where 'No_Number_StockCode' is True\n",
    "df1 = df[~df['Non_Invoice']]\n",
    "\n",
    "print(df1)"
   ]
  },
  {
   "cell_type": "code",
   "execution_count": null,
   "id": "9b11f27f",
   "metadata": {},
   "outputs": [],
   "source": [
    "# Get the unique values in the 'name' column\n",
    "unique_Invoice = df1['Invoice'].unique()\n",
    "\n",
    "# Print the unique values on a new line\n",
    "for invoice in unique_Invoice:\n",
    "    print(f'{invoice}')"
   ]
  },
  {
   "cell_type": "code",
   "execution_count": null,
   "id": "b773f674",
   "metadata": {},
   "outputs": [],
   "source": [
    "# Filter rows where 'No_Number_StockCode' is True\n",
    "df = df[df['Non_Invoice']]\n",
    "\n",
    "print(df)"
   ]
  },
  {
   "cell_type": "code",
   "execution_count": null,
   "id": "012b944c",
   "metadata": {},
   "outputs": [],
   "source": [
    "# Removing \"Non_Invoice\" column from df - Not necessary\n",
    "df = df.drop(['Non_Invoice'], axis=1)"
   ]
  },
  {
   "cell_type": "code",
   "execution_count": null,
   "id": "0e578110",
   "metadata": {},
   "outputs": [],
   "source": [
    "# information of data set after removing cancelled invoice numbers\n",
    "df.info()"
   ]
  },
  {
   "cell_type": "markdown",
   "id": "f4f146be",
   "metadata": {},
   "source": [
    "## 3.1.2.Eliminating conflicting stock codes"
   ]
  },
  {
   "cell_type": "code",
   "execution_count": null,
   "id": "3fe0e829",
   "metadata": {},
   "outputs": [],
   "source": [
    "# Create a regular expression pattern to match strings . For identifying stockcodes with any non digit characters. \n",
    "pattern =  '\\d{5}[A-Za-z][A-Za-z]?$'\n",
    "\n",
    "# Use str.match() to check if each 'Data' value matches the pattern\n",
    "df['Non-StockCode'] = df['StockCode'].str.match(pattern)\n",
    "\n",
    "# Fill NaN values in the 'Non-StockCode' column with true\n",
    "df['Non-StockCode'].fillna(True, inplace=True)\n",
    "\n",
    "# Filter rows where 'Non-StockCode' is True\n",
    "df2 = df[~df['Non-StockCode']]\n",
    "\n",
    "print(df2)"
   ]
  },
  {
   "cell_type": "code",
   "execution_count": null,
   "id": "29548fc5",
   "metadata": {},
   "outputs": [],
   "source": [
    "# Get the unique values in the 'name' column\n",
    "unique_StockCode = df2['StockCode'].unique()\n",
    "\n",
    "# Print the unique values on a new line\n",
    "for stockcode in unique_StockCode:\n",
    "    print(f'{stockcode}')"
   ]
  },
  {
   "cell_type": "code",
   "execution_count": null,
   "id": "339c1322",
   "metadata": {},
   "outputs": [],
   "source": [
    "df = df[df['Non-StockCode']]"
   ]
  },
  {
   "cell_type": "code",
   "execution_count": null,
   "id": "4c5acadb",
   "metadata": {},
   "outputs": [],
   "source": [
    "# information of data set after removing invoices starts with C and Non-Digit StockCodes\n",
    "df.info()"
   ]
  },
  {
   "cell_type": "code",
   "execution_count": null,
   "id": "f9cbe1c0",
   "metadata": {},
   "outputs": [],
   "source": [
    "# Removing \" Non-StockCode\" column from df - Not necessary\n",
    "df = df.drop(['Non-StockCode'], axis=1)"
   ]
  },
  {
   "cell_type": "code",
   "execution_count": null,
   "id": "2214f7e0",
   "metadata": {},
   "outputs": [],
   "source": [
    "print(df)"
   ]
  },
  {
   "cell_type": "markdown",
   "id": "b238bf9e",
   "metadata": {},
   "source": [
    "## 3.1.3. Removing  “Unspecified” Country"
   ]
  },
  {
   "cell_type": "code",
   "execution_count": null,
   "id": "18fc84a4",
   "metadata": {},
   "outputs": [],
   "source": [
    "# Count the number of countries with the value \"Unspecified\"\n",
    "num_unspecified_countries = df['Country'].value_counts()['Unspecified']\n",
    "\n",
    "# Print the result\n",
    "print(f'There are {num_unspecified_countries} countries with the value \"Unspecified\".')"
   ]
  },
  {
   "cell_type": "code",
   "execution_count": null,
   "id": "c6ad05db",
   "metadata": {},
   "outputs": [],
   "source": [
    "# Drop rows with Country = Unspecified.\n",
    "df = df[df['Country'] != 'Unspecified']\n",
    "print(df)"
   ]
  },
  {
   "cell_type": "code",
   "execution_count": null,
   "id": "a6b8872d",
   "metadata": {},
   "outputs": [],
   "source": [
    "#information of data set \n",
    "# removed cancelled invoices \n",
    "# removed Non-Digit StockCodes\n",
    "# removed Unspecified Country name\n",
    "df.info()"
   ]
  },
  {
   "cell_type": "markdown",
   "id": "b9365a2b",
   "metadata": {},
   "source": [
    "## 3.1.4. Removing rows with missing values in the Description"
   ]
  },
  {
   "cell_type": "code",
   "execution_count": null,
   "id": "5c7aafdb",
   "metadata": {},
   "outputs": [],
   "source": [
    "# Checking for missing values \n",
    "df.isnull().sum()"
   ]
  },
  {
   "cell_type": "code",
   "execution_count": null,
   "id": "35197b61",
   "metadata": {},
   "outputs": [],
   "source": [
    "# Droping rows with missing value in Description\n",
    "df.dropna(subset=['Description'], inplace=True)"
   ]
  },
  {
   "cell_type": "code",
   "execution_count": null,
   "id": "0551b545",
   "metadata": {},
   "outputs": [],
   "source": [
    "#information of data set \n",
    "# removed cancelled invoices \n",
    "# removed Non-Digit StockCodes\n",
    "# removed Unspecified Country name\n",
    "# removed Missing Description values\n",
    "df.info()"
   ]
  },
  {
   "cell_type": "code",
   "execution_count": null,
   "id": "d984dd58",
   "metadata": {},
   "outputs": [],
   "source": [
    "# Checking for missing values after dropping null values in description column. \n",
    "df.isnull().sum()"
   ]
  },
  {
   "cell_type": "markdown",
   "id": "80d438ef",
   "metadata": {},
   "source": [
    "## 3.1.5. Finding negative quantities "
   ]
  },
  {
   "cell_type": "code",
   "execution_count": null,
   "id": "a365800b",
   "metadata": {},
   "outputs": [],
   "source": [
    "# Checking negative values in Price column\n",
    "column = df['Quantity']\n",
    "count_negative_values = sum(column < 0)\n",
    "print(count_negative_values)"
   ]
  },
  {
   "cell_type": "code",
   "execution_count": null,
   "id": "bb58fe38",
   "metadata": {},
   "outputs": [],
   "source": [
    "# Replace with  positive sign  for  negative quantity values\n",
    "df['Quantity'] = df['Quantity'].abs()"
   ]
  },
  {
   "cell_type": "code",
   "execution_count": null,
   "id": "58386cb9",
   "metadata": {},
   "outputs": [],
   "source": [
    "#information of data set \n",
    "# removed cancelled invoices \n",
    "# removed Non-Digit StockCodes\n",
    "# removed Unspecified Country name\n",
    "# removed Missing Description values\n",
    "# negative quantity value changed as positive\n",
    "df.info()"
   ]
  },
  {
   "cell_type": "markdown",
   "id": "3a06d328",
   "metadata": {},
   "source": [
    "## 3.1.6. Zero-value quantity identification "
   ]
  },
  {
   "cell_type": "code",
   "execution_count": null,
   "id": "bd111a80",
   "metadata": {},
   "outputs": [],
   "source": [
    "# checking quantity negative values\n",
    "column = df['Quantity']\n",
    "count_negative_values = sum(column < 0)\n",
    "print(count_negative_values)"
   ]
  },
  {
   "cell_type": "markdown",
   "id": "7b52aac0",
   "metadata": {},
   "source": [
    "## 3.1.7. Removing quantity outliers "
   ]
  },
  {
   "cell_type": "code",
   "execution_count": null,
   "id": "23420611",
   "metadata": {},
   "outputs": [],
   "source": [
    "# Box plot: to identify outliers in the Quantity variable.\n",
    "# Box plot: to compare the distributions of the Quantity variable across multiple groups or categories.\n",
    "\n",
    "# Generate a box plot\n",
    "plt.figure(figsize=(10, 3))\n",
    "plt.boxplot(df['Quantity'])\n",
    "plt.xlabel(\"Quantity\")\n",
    "plt.ylabel(\"Value\")\n",
    "plt.title(\"Box Plot of Quantity\")\n",
    "plt.show()"
   ]
  },
  {
   "cell_type": "code",
   "execution_count": null,
   "id": "ea0fe695",
   "metadata": {},
   "outputs": [],
   "source": [
    "# finding outliers of Quantity - \n",
    "# This data point is more than 3 standard deviations from the mean of the other data points, so it is likely to be noise.\n",
    "\n",
    "# Calculate the standard deviation\n",
    "std = df['Quantity'].std()\n",
    "\n",
    "# Identify outliers as data points that are more than 3 standard deviations from the mean\n",
    "outliers_quan = df[np.abs(df['Quantity'] - df['Quantity'].mean()) > 3 * std]\n",
    "\n",
    "print(outliers_quan)"
   ]
  },
  {
   "cell_type": "code",
   "execution_count": null,
   "id": "e9fc0099",
   "metadata": {},
   "outputs": [],
   "source": [
    "# removing quantity outliers \n",
    "# Create a Boolean Series that indicates which rows in the original DataFrame are outliers\n",
    "is_outlier = df['Quantity'].isin(outliers_quan['Quantity'])\n",
    "\n",
    "# Drop the outliers from the DataFrame\n",
    "df = df[~is_outlier]\n",
    "\n",
    "# Print the DataFrame\n",
    "print(df)"
   ]
  },
  {
   "cell_type": "code",
   "execution_count": null,
   "id": "d84726e8",
   "metadata": {},
   "outputs": [],
   "source": [
    "# Box plot: Checking the outliers \n",
    "\n",
    "# Generate a box plot\n",
    "plt.figure(figsize=(10, 3))\n",
    "plt.boxplot(df['Quantity'])\n",
    "plt.xlabel(\"Quantity\")\n",
    "plt.ylabel(\"Value\")\n",
    "plt.title(\"Box Plot of Quantity\")\n",
    "plt.show()"
   ]
  },
  {
   "cell_type": "code",
   "execution_count": null,
   "id": "7aef4fc3",
   "metadata": {},
   "outputs": [],
   "source": [
    "#information of data set \n",
    "# removed cancelled invoices \n",
    "# removed Non-Digit StockCodes\n",
    "# removed Unspecified Country name\n",
    "# removed Missing Description values\n",
    "# negative quantity value changed as positive\n",
    "# removed outliers from Quantity\n",
    "df.info()"
   ]
  },
  {
   "cell_type": "markdown",
   "id": "b0865f28",
   "metadata": {},
   "source": [
    "## 3.1.8. Removing price zeros"
   ]
  },
  {
   "cell_type": "code",
   "execution_count": null,
   "id": "f72e9289",
   "metadata": {},
   "outputs": [],
   "source": [
    "# Checking zero values in Price column\n",
    "column = df['Price']\n",
    "count_zero_values = sum(column == 0)\n",
    "print(count_zero_values)"
   ]
  },
  {
   "cell_type": "code",
   "execution_count": null,
   "id": "c1c4f30d",
   "metadata": {},
   "outputs": [],
   "source": [
    "# Drop rows with zero price value \n",
    "df= df.drop(df.index[df['Price'] == 0])"
   ]
  },
  {
   "cell_type": "code",
   "execution_count": null,
   "id": "04a58ffa",
   "metadata": {},
   "outputs": [],
   "source": [
    "df.info()"
   ]
  },
  {
   "cell_type": "markdown",
   "id": "4a5cbb93",
   "metadata": {},
   "source": [
    "## 3.1.9. Replacing negative price values"
   ]
  },
  {
   "cell_type": "code",
   "execution_count": null,
   "id": "5c62501e",
   "metadata": {},
   "outputs": [],
   "source": [
    "# Checking negative values in Price column\n",
    "column = df['Price']\n",
    "count_negative_values = sum(column < 0)\n",
    "print(count_negative_values)"
   ]
  },
  {
   "cell_type": "markdown",
   "id": "fbc97b1a",
   "metadata": {},
   "source": [
    "## 3.1.10. Removing price outliers"
   ]
  },
  {
   "cell_type": "code",
   "execution_count": null,
   "id": "f270748f",
   "metadata": {},
   "outputs": [],
   "source": [
    "# Box plot: to identify outliers in the Quantity variable.\n",
    "# Box plot: to compare the distributions of the Quantity variable across multiple groups or categories.\n",
    "\n",
    "# Generate a box plot\n",
    "plt.figure(figsize=(10, 3))\n",
    "plt.boxplot(df['Price'])\n",
    "plt.xlabel(\"Price\")\n",
    "plt.ylabel(\"Value\")\n",
    "plt.title(\"Box Plot of Price\")\n",
    "plt.show()"
   ]
  },
  {
   "cell_type": "code",
   "execution_count": null,
   "id": "06c96212",
   "metadata": {},
   "outputs": [],
   "source": [
    "# This data point is more than 3 standard deviations from the mean of the other data points, so it is likely to be noise.\n",
    "\n",
    "# Calculate the standard deviation\n",
    "std = df['Price'].std()\n",
    "\n",
    "# Identify outliers as data points that are more than 3 standard deviations from the mean\n",
    "outliers_price = df[np.abs(df['Price'] - df['Price'].mean()) > 3 * std]\n",
    "\n",
    "\n",
    "print(outliers_price)"
   ]
  },
  {
   "cell_type": "code",
   "execution_count": null,
   "id": "8d81eeae",
   "metadata": {},
   "outputs": [],
   "source": [
    "# Removing price outliers\n",
    "# Create a Boolean Series that indicates which rows in the original DataFrame are outliers\n",
    "is_outlier = df['Price'].isin(outliers_price['Price'])\n",
    "\n",
    "# Drop the outliers from the DataFrame\n",
    "df = df[~is_outlier]\n",
    "\n",
    "# Print the DataFrame\n",
    "print(df)"
   ]
  },
  {
   "cell_type": "code",
   "execution_count": null,
   "id": "b0aa9b4c",
   "metadata": {},
   "outputs": [],
   "source": [
    "# Box plot: Checking outliers\n",
    "\n",
    "# Generate a box plot\n",
    "plt.figure(figsize=(10, 3))\n",
    "plt.boxplot(df['Price'])\n",
    "plt.xlabel(\"Price\")\n",
    "plt.ylabel(\"Value\")\n",
    "plt.title(\"Box Plot of Price\")\n",
    "plt.show()"
   ]
  },
  {
   "cell_type": "markdown",
   "id": "c3b27433",
   "metadata": {},
   "source": [
    "## 3.1.11. Detecting description coding errors "
   ]
  },
  {
   "cell_type": "code",
   "execution_count": null,
   "id": "d097da9e",
   "metadata": {},
   "outputs": [],
   "source": [
    "# Define the pattern for valid strings (only lowercase, uppercase letters, white spaces)\n",
    "pattern = '[A-Z0-9\\s]'\n",
    "\n",
    "# Converting the 'Description' column to strings\n",
    "df['Description'] = df['Description'].astype(str)\n",
    "\n",
    "# Checking the pattern and create a new column for valid formats\n",
    "df['Valid_Description'] = df['Description'].str.match(pattern)\n",
    "\n",
    "# Filtering rows with inconsistent format\n",
    "inconsistent_Description_rows = df[~df['Valid_Description']]\n",
    "print(\"inconsistent_Description_rows:\")\n",
    "print(inconsistent_Description_rows)"
   ]
  },
  {
   "cell_type": "code",
   "execution_count": null,
   "id": "c93f9aee",
   "metadata": {},
   "outputs": [],
   "source": [
    "# Removing \" Valid_Description\" column from df\n",
    "df = df.drop(['Valid_Description'], axis=1)"
   ]
  },
  {
   "cell_type": "code",
   "execution_count": null,
   "id": "705a62c7",
   "metadata": {},
   "outputs": [],
   "source": [
    "#information of data set \n",
    "# removed cancelled invoices \n",
    "# removed Non-Digit StockCodes\n",
    "# removed Unspecified Country name\n",
    "# removed Missing Description values\n",
    "# negative quantity value changed as positive\n",
    "# removed outliers from Quantity\n",
    "# removing all zero price values \n",
    "# Identified inconsistancy in Description not removed \n",
    "df.info()"
   ]
  },
  {
   "cell_type": "markdown",
   "id": "df5c565b",
   "metadata": {},
   "source": [
    "## 3.1.12. Finding inconsistent InvoiceDate coding"
   ]
  },
  {
   "cell_type": "code",
   "execution_count": null,
   "id": "cf962344",
   "metadata": {},
   "outputs": [],
   "source": [
    "# Define the pattern for valid Date and Time\n",
    "pattern = \"^[0-9]{4}-[0-9]{2}-[0-9]{2} [0-9]{2}:[0-9]{2}:[0-9]{2}$\"\n",
    "\n",
    "# Converting the 'InvoiceDate' column to strings\n",
    "df['InvoiceDate'] = df['InvoiceDate'].astype(str)\n",
    "\n",
    "# Checking the pattern and create a new column for valid formats\n",
    "df['Valid_InvoiceDate'] = df['InvoiceDate'].str.match(pattern)\n",
    "\n",
    "# Filtering rows with inconsistent format\n",
    "inconsistent_invoiceDate_format_rows = df[~df['Valid_InvoiceDate']]\n",
    "print(\"Inconsistent InvoiceDate format rows:\")\n",
    "print(inconsistent_invoiceDate_format_rows)"
   ]
  },
  {
   "cell_type": "code",
   "execution_count": null,
   "id": "9a5e1724",
   "metadata": {},
   "outputs": [],
   "source": [
    "# Removing \" Valid_InvoiceDate\" column from df - Not necessary\n",
    "df = df.drop(['Valid_InvoiceDate'], axis=1)"
   ]
  },
  {
   "cell_type": "code",
   "execution_count": null,
   "id": "e87cf823",
   "metadata": {},
   "outputs": [],
   "source": [
    "df.info()"
   ]
  },
  {
   "cell_type": "markdown",
   "id": "f251cddb",
   "metadata": {},
   "source": [
    "# 3.2 Data Transformation"
   ]
  },
  {
   "cell_type": "markdown",
   "id": "871dbc77",
   "metadata": {},
   "source": [
    "## 3.2.1 Insert new column - Revenue"
   ]
  },
  {
   "cell_type": "code",
   "execution_count": null,
   "id": "0edc440c",
   "metadata": {},
   "outputs": [],
   "source": [
    "# Insert revenue row\n",
    "df.insert(6, 'Revenue', df['Quantity']*df['Price'])"
   ]
  },
  {
   "cell_type": "code",
   "execution_count": null,
   "id": "57f5fd1c",
   "metadata": {},
   "outputs": [],
   "source": [
    "# Information of Dataset\n",
    "df.info()"
   ]
  },
  {
   "cell_type": "code",
   "execution_count": null,
   "id": "9a6d52c0",
   "metadata": {},
   "outputs": [],
   "source": [
    "# displaying the first few rows of the dataset\n",
    "df.head()"
   ]
  },
  {
   "cell_type": "markdown",
   "id": "c7f73ad8",
   "metadata": {},
   "source": [
    "## 3.2.2  Transforming Invoice Date "
   ]
  },
  {
   "cell_type": "code",
   "execution_count": null,
   "id": "2eebdffa",
   "metadata": {},
   "outputs": [],
   "source": [
    "# Convert the InvoiceDate column to a datetime format\n",
    "df['InvoiceDate'] = pd.to_datetime(df['InvoiceDate'])"
   ]
  },
  {
   "cell_type": "code",
   "execution_count": null,
   "id": "f7abdb44",
   "metadata": {},
   "outputs": [],
   "source": [
    "# Extract the year from the InvoiceDate column\n",
    "df['Year'] = df['InvoiceDate'].dt.year"
   ]
  },
  {
   "cell_type": "code",
   "execution_count": null,
   "id": "ae1d2b50",
   "metadata": {},
   "outputs": [],
   "source": [
    "# Extract the month from the InvoiceDate column\n",
    "df['Month'] = df['InvoiceDate'].dt.month"
   ]
  },
  {
   "cell_type": "code",
   "execution_count": null,
   "id": "7596336f",
   "metadata": {},
   "outputs": [],
   "source": [
    "# Extract the Day from the InvoiceDate column\n",
    "df['Day'] = df['InvoiceDate'].dt.day"
   ]
  },
  {
   "cell_type": "code",
   "execution_count": null,
   "id": "c15cd172",
   "metadata": {},
   "outputs": [],
   "source": [
    "# Extract the Day from the InvoiceDate column\n",
    "df['Hour'] = df['InvoiceDate'].dt.hour"
   ]
  },
  {
   "cell_type": "code",
   "execution_count": null,
   "id": "696c8858",
   "metadata": {},
   "outputs": [],
   "source": [
    "# Information of Dataset\n",
    "df.info()"
   ]
  },
  {
   "cell_type": "code",
   "execution_count": null,
   "id": "2953d163",
   "metadata": {},
   "outputs": [],
   "source": [
    "# displaying the first few rows of the dataset\n",
    "df.head()"
   ]
  },
  {
   "cell_type": "markdown",
   "id": "1c5a27dd",
   "metadata": {},
   "source": [
    "# 3.3 Data Reduction"
   ]
  },
  {
   "cell_type": "code",
   "execution_count": null,
   "id": "895746e9",
   "metadata": {},
   "outputs": [],
   "source": [
    "# Removing \" Invoice\" column from df\n",
    "df = df.drop(['Invoice'], axis=1)"
   ]
  },
  {
   "cell_type": "code",
   "execution_count": null,
   "id": "582b31cc",
   "metadata": {},
   "outputs": [],
   "source": [
    "# Removing \" StockCode\" column from df\n",
    "df = df.drop(['StockCode'], axis=1)"
   ]
  },
  {
   "cell_type": "code",
   "execution_count": null,
   "id": "11d5186d",
   "metadata": {},
   "outputs": [],
   "source": [
    "# Removing \" InvoiceDate\" column from df\n",
    "df = df.drop(['InvoiceDate'], axis=1)"
   ]
  },
  {
   "cell_type": "code",
   "execution_count": null,
   "id": "4489c9a2",
   "metadata": {},
   "outputs": [],
   "source": [
    "# Removing \" Customer ID\" column from df\n",
    "df = df.drop(['Customer ID'], axis=1)"
   ]
  },
  {
   "cell_type": "code",
   "execution_count": null,
   "id": "32c6fb4a",
   "metadata": {},
   "outputs": [],
   "source": [
    "# Data info after date pre-processing \n",
    "df.info()"
   ]
  },
  {
   "cell_type": "code",
   "execution_count": null,
   "id": "ebd7b4df",
   "metadata": {},
   "outputs": [],
   "source": [
    "# Exporting clean data to excel \n",
    "output_file_path = 'clean data.xlsx'\n",
    "df.to_excel(output_file_path, index=False)\n",
    "print(f\"Final clean dataset after pre-processing {output_file_path}\")"
   ]
  }
 ],
 "metadata": {
  "kernelspec": {
   "display_name": "Python 3 (ipykernel)",
   "language": "python",
   "name": "python3"
  },
  "language_info": {
   "codemirror_mode": {
    "name": "ipython",
    "version": 3
   },
   "file_extension": ".py",
   "mimetype": "text/x-python",
   "name": "python",
   "nbconvert_exporter": "python",
   "pygments_lexer": "ipython3",
   "version": "3.11.3"
  }
 },
 "nbformat": 4,
 "nbformat_minor": 5
}
