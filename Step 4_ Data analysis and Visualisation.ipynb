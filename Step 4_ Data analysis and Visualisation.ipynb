{
 "cells": [
  {
   "cell_type": "markdown",
   "id": "fe6ab022",
   "metadata": {},
   "source": [
    "# Step 4: Date Analysis and Visualisation"
   ]
  },
  {
   "cell_type": "markdown",
   "id": "9ea7666f",
   "metadata": {},
   "source": [
    "# 4.1 Univariate Analysis "
   ]
  },
  {
   "cell_type": "code",
   "execution_count": null,
   "id": "b95d1aac",
   "metadata": {},
   "outputs": [],
   "source": [
    "#Selecting and displaying the numerical columns (float64 and int64) from the DataFrame.\n",
    "df_num = df.select_dtypes(include = ['float64', 'int64'])\n",
    "df_num.head()"
   ]
  },
  {
   "cell_type": "code",
   "execution_count": null,
   "id": "237a624c",
   "metadata": {},
   "outputs": [],
   "source": [
    "#Creating histograms for the numerical columns in the DataFrame,\n",
    "#specifying figure size, bin count, and label font sizes for better visualization.\n",
    "df_num.hist(figsize=(16, 20), bins=50, xlabelsize=8, ylabelsize=8); # ; avoid having the matplotlib verbose informations"
   ]
  },
  {
   "cell_type": "markdown",
   "id": "e364fb4f",
   "metadata": {},
   "source": [
    "### 4.1.1 Sales Quantity "
   ]
  },
  {
   "cell_type": "code",
   "execution_count": null,
   "id": "61f1ae3f",
   "metadata": {},
   "outputs": [],
   "source": [
    "# unique value count\n",
    "df['Quantity'].value_counts()"
   ]
  },
  {
   "cell_type": "code",
   "execution_count": null,
   "id": "8582db99",
   "metadata": {},
   "outputs": [],
   "source": [
    "df_quantity_list = df['Quantity'] # Create new df for Quantity"
   ]
  },
  {
   "cell_type": "code",
   "execution_count": null,
   "id": "79756e78",
   "metadata": {},
   "outputs": [],
   "source": [
    "df_quantity_list.describe() # Statistics analysis for created dataframe"
   ]
  },
  {
   "cell_type": "code",
   "execution_count": null,
   "id": "fe41fa46",
   "metadata": {
    "scrolled": true
   },
   "outputs": [],
   "source": [
    "# Frequency distribution of Quantity\n",
    "# Histogram\n",
    "plt.figure(figsize=(10, 3))\n",
    "sns.histplot(df['Quantity'], bins=30, kde=True)\n",
    "plt.title(f'Distribution of Quantity')\n",
    "plt.xlabel('Quantity')\n",
    "plt.ylabel('Frequency')\n",
    "plt.show()"
   ]
  },
  {
   "cell_type": "code",
   "execution_count": null,
   "id": "1ea528ae",
   "metadata": {},
   "outputs": [],
   "source": [
    "# Box plot: to identify outliers in the Quantity variable.\n",
    "# Box plot: to compare the distributions of the Quantity variable across multiple groups or categories.\n",
    "\n",
    "# Generate a box plot\n",
    "plt.figure(figsize=(10, 3))\n",
    "plt.boxplot(df['Quantity'])\n",
    "plt.xlabel(\"Quantity\")\n",
    "plt.ylabel(\"Value\")\n",
    "plt.title(\"Box Plot of Quantity\")\n",
    "plt.show()"
   ]
  },
  {
   "cell_type": "code",
   "execution_count": null,
   "id": "37cb4993",
   "metadata": {},
   "outputs": [],
   "source": [
    "# Get the Quantity column from the DataFrame\n",
    "quantity = df['Quantity']\n",
    "\n",
    "# Calculate the mean and standard deviation of the Quantity column\n",
    "mean = np.mean(quantity)\n",
    "std = np.std(quantity)\n",
    "\n",
    "# Determine the range of values that fall within each percentage range\n",
    "lower_68 = mean - std\n",
    "upper_68 = mean + std\n",
    "lower_95 = mean - 2 * std\n",
    "upper_95 = mean + 2 * std\n",
    "lower_997 = mean - 3 * std\n",
    "upper_997 = mean + 3 * std\n",
    "\n",
    "# Size of figure\n",
    "plt.figure(figsize=(10, 3))\n",
    "\n",
    "# Create a normal distribution\n",
    "x = np.random.normal(mean, std, 1000)\n",
    "\n",
    "# Plot the normal distribution\n",
    "plt.hist(x, bins=50, density=True)\n",
    "\n",
    "# Plot the mean line\n",
    "plt.axvline(mean, color='r', linestyle='--')\n",
    "\n",
    "# Shade in the areas that fall within each percentage range\n",
    "plt.axvspan(lower_68, upper_68, alpha=0.5, color='g')\n",
    "plt.axvspan(lower_95, upper_95, alpha=0.25, color='b')\n",
    "plt.axvspan(lower_997, upper_997, alpha=0.125, color='y')\n",
    "\n",
    "# Add labels and title\n",
    "plt.xlabel('Value')\n",
    "plt.ylabel('Density')\n",
    "plt.title('Normal Distribution of Quantity with 68%, 95%, and 99.7% Indicated')\n",
    "\n",
    "# Show the plot\n",
    "plt.show()"
   ]
  },
  {
   "cell_type": "markdown",
   "id": "f372a6b6",
   "metadata": {},
   "source": [
    "### 4.1.2. Unit Price"
   ]
  },
  {
   "cell_type": "code",
   "execution_count": null,
   "id": "f76dae61",
   "metadata": {},
   "outputs": [],
   "source": [
    "# unique value count\n",
    "df['Price'].value_counts()"
   ]
  },
  {
   "cell_type": "code",
   "execution_count": null,
   "id": "1eef245f",
   "metadata": {},
   "outputs": [],
   "source": [
    "df_Price_list = df['Price']"
   ]
  },
  {
   "cell_type": "code",
   "execution_count": null,
   "id": "a09c5543",
   "metadata": {},
   "outputs": [],
   "source": [
    "df_Price_list.describe()"
   ]
  },
  {
   "cell_type": "code",
   "execution_count": null,
   "id": "fd4c1cd7",
   "metadata": {},
   "outputs": [],
   "source": [
    "# Frequency distribution of price\n",
    "# Histogram\n",
    "plt.figure(figsize=(10, 3))\n",
    "sns.histplot(df['Price'], bins=30, kde=True)\n",
    "plt.title(f'Distribution of Price')\n",
    "plt.xlabel('Price')\n",
    "plt.ylabel('Frequency')\n",
    "plt.show()"
   ]
  },
  {
   "cell_type": "code",
   "execution_count": null,
   "id": "9118dc7a",
   "metadata": {},
   "outputs": [],
   "source": [
    "# Box plot: to identify outliers in the Price variable.\n",
    "# Box plot: to compare the distributions of the Quantity variable across multiple groups or categories.\n",
    "\n",
    "# Generate a box plot\n",
    "plt.figure(figsize=(10, 3))\n",
    "plt.boxplot(df['Price'])\n",
    "plt.xlabel(\"Price\")\n",
    "plt.ylabel(\"Value\")\n",
    "plt.title(\"Box Plot of Price\")\n",
    "plt.show()"
   ]
  },
  {
   "cell_type": "code",
   "execution_count": null,
   "id": "78d06355",
   "metadata": {},
   "outputs": [],
   "source": [
    "# Size of figure\n",
    "plt.figure(figsize=(10, 3))\n",
    "\n",
    "# Create a violin plot of the Quantity variable\n",
    "sns.violinplot(x='Price', data=df)\n",
    "\n",
    "# Add a title to the plot\n",
    "plt.title('Distribution of Price')\n",
    "\n",
    "# Display the plot\n",
    "plt.show()"
   ]
  },
  {
   "cell_type": "code",
   "execution_count": null,
   "id": "3312decb",
   "metadata": {},
   "outputs": [],
   "source": [
    "# Get the Quantity column from the DataFrame\n",
    "price = df['Price']\n",
    "\n",
    "# Calculate the mean and standard deviation of the Quantity column\n",
    "mean = np.mean(price)\n",
    "std = np.std(price)\n",
    "\n",
    "# Determine the range of values that fall within each percentage range\n",
    "lower_68 = mean - std\n",
    "upper_68 = mean + std\n",
    "lower_95 = mean - 2 * std\n",
    "upper_95 = mean + 2 * std\n",
    "lower_997 = mean - 3 * std\n",
    "upper_997 = mean + 3 * std\n",
    "\n",
    "# Size of figure\n",
    "plt.figure(figsize=(10, 3))\n",
    "\n",
    "# Create a normal distribution\n",
    "x = np.random.normal(mean, std, 1000)\n",
    "\n",
    "# Plot the normal distribution\n",
    "plt.hist(x, bins=50, density=True)\n",
    "\n",
    "# Plot the mean line\n",
    "plt.axvline(mean, color='r', linestyle='--')\n",
    "\n",
    "# Shade in the areas that fall within each percentage range\n",
    "plt.axvspan(lower_68, upper_68, alpha=0.5, color='g')\n",
    "plt.axvspan(lower_95, upper_95, alpha=0.25, color='b')\n",
    "plt.axvspan(lower_997, upper_997, alpha=0.125, color='y')\n",
    "\n",
    "# Add labels and title\n",
    "plt.xlabel('Value')\n",
    "plt.ylabel('Density')\n",
    "plt.title('Normal Distribution of Unit Price with 68%, 95%, and 99.7% Indicated')\n",
    "\n",
    "# Show the plot\n",
    "plt.show()"
   ]
  },
  {
   "cell_type": "markdown",
   "id": "ed785b59",
   "metadata": {},
   "source": [
    "### 4.1.3 Sales Revenue"
   ]
  },
  {
   "cell_type": "code",
   "execution_count": null,
   "id": "3ff72c0d",
   "metadata": {},
   "outputs": [],
   "source": [
    "# unique value count \n",
    "df['Revenue'].value_counts()"
   ]
  },
  {
   "cell_type": "code",
   "execution_count": null,
   "id": "0a20e736",
   "metadata": {},
   "outputs": [],
   "source": [
    "df_Revenue_list = df['Revenue']"
   ]
  },
  {
   "cell_type": "code",
   "execution_count": null,
   "id": "200b925e",
   "metadata": {},
   "outputs": [],
   "source": [
    "df_Revenue_list.describe()"
   ]
  },
  {
   "cell_type": "code",
   "execution_count": null,
   "id": "080c28dd",
   "metadata": {},
   "outputs": [],
   "source": [
    "# Frequency distribution of Revenue\n",
    "plt.figure(figsize=(10, 3))\n",
    "sns.histplot(df['Revenue'], bins=30, kde=True)\n",
    "plt.title(f'Distribution of Revenue')\n",
    "plt.xlabel('Revenue')\n",
    "plt.ylabel('Frequency')\n",
    "plt.show()"
   ]
  },
  {
   "cell_type": "code",
   "execution_count": null,
   "id": "d9696717",
   "metadata": {},
   "outputs": [],
   "source": [
    "# Size of figure\n",
    "plt.figure(figsize=(10, 3))\n",
    "\n",
    "# Create a violin plot of the Quantity variable\n",
    "sns.violinplot(x='Revenue', data=df)\n",
    "\n",
    "# Add a title to the plot\n",
    "plt.title('Distribution of Revenue')\n",
    "\n",
    "# Display the plot\n",
    "plt.show()"
   ]
  },
  {
   "cell_type": "code",
   "execution_count": null,
   "id": "3ff0bb1e",
   "metadata": {},
   "outputs": [],
   "source": [
    "# Box plot: to identify outliers in the Revenue variable.\n",
    "\n",
    "# Generate a box plot\n",
    "plt.figure(figsize=(10, 3))\n",
    "plt.boxplot(df['Revenue'])\n",
    "plt.xlabel(\"Revenue\")\n",
    "plt.ylabel(\"Value\")\n",
    "plt.title(\"Box Plot of Revenue\")\n",
    "plt.show()"
   ]
  },
  {
   "cell_type": "code",
   "execution_count": null,
   "id": "4d8bf055",
   "metadata": {
    "scrolled": true
   },
   "outputs": [],
   "source": [
    "#Boxplot of order values by customer segment: A boxplot of order values by customer segment can be used to compare the spending habits of different groups of customers. \n",
    "#This information can be used to develop targeted marketing campaigns or to create loyalty programs.\n",
    "# Boxplot of order values by customer segment\n",
    "df['CustomerSegment'] = pd.cut(df['Revenue'], bins=[0, 100, 500, 1000, 2000 , np.inf], labels=['Low spenders', 'Medium spenders', 'High spenders', 'Very high spenders', 'Top spenders'])\n",
    "plt.figure(figsize=(10, 3))\n",
    "sns.boxplot(x='CustomerSegment', y='Revenue', data=df)\n",
    "plt.xlabel('Customer segment')\n",
    "plt.xticks(rotation=90)\n",
    "plt.ylabel('Order value')\n",
    "plt.title('Boxplot of Revenue by customer segment')\n",
    "plt.show()"
   ]
  },
  {
   "cell_type": "code",
   "execution_count": null,
   "id": "aa226480",
   "metadata": {},
   "outputs": [],
   "source": [
    "# Get the Quantity column from the DataFrame\n",
    "revenue = df['Revenue']\n",
    "\n",
    "# Calculate the mean and standard deviation of the Quantity column\n",
    "mean = np.mean(revenue)\n",
    "std = np.std(revenue)\n",
    "\n",
    "# Determine the range of values that fall within each percentage range\n",
    "lower_68 = mean - std\n",
    "upper_68 = mean + std\n",
    "lower_95 = mean - 2 * std\n",
    "upper_95 = mean + 2 * std\n",
    "lower_997 = mean - 3 * std\n",
    "upper_997 = mean + 3 * std\n",
    "\n",
    "# Size of figure\n",
    "plt.figure(figsize=(10, 3))\n",
    "\n",
    "# Create a normal distribution\n",
    "x = np.random.normal(mean, std, 1000)\n",
    "\n",
    "# Plot the normal distribution\n",
    "plt.hist(x, bins=50, density=True)\n",
    "\n",
    "# Plot the mean line\n",
    "plt.axvline(mean, color='r', linestyle='--')\n",
    "\n",
    "# Shade in the areas that fall within each percentage range\n",
    "plt.axvspan(lower_68, upper_68, alpha=0.5, color='g')\n",
    "plt.axvspan(lower_95, upper_95, alpha=0.25, color='b')\n",
    "plt.axvspan(lower_997, upper_997, alpha=0.125, color='y')\n",
    "\n",
    "# Add labels and title\n",
    "plt.xlabel('Value')\n",
    "plt.ylabel('Density')\n",
    "plt.title('Normal Distribution of Revenue with 68%, 95%, and 99.7% Indicated')\n",
    "\n",
    "# Show the plot\n",
    "plt.show()"
   ]
  },
  {
   "cell_type": "markdown",
   "id": "0025a55a",
   "metadata": {},
   "source": [
    "### 4.1.4 - Month "
   ]
  },
  {
   "cell_type": "code",
   "execution_count": null,
   "id": "9dddc81a",
   "metadata": {},
   "outputs": [],
   "source": [
    "# unique value count\n",
    "df['Month'].value_counts()"
   ]
  },
  {
   "cell_type": "code",
   "execution_count": null,
   "id": "af62101f",
   "metadata": {},
   "outputs": [],
   "source": [
    "# Frequency distribution of Revenue\n",
    "plt.figure(figsize=(10, 3))\n",
    "sns.histplot(df['Month'], bins=30, kde=True)\n",
    "plt.title(f'Distribution of Month')\n",
    "plt.xlabel('Month')\n",
    "plt.ylabel('Frequency')\n",
    "plt.show()"
   ]
  },
  {
   "cell_type": "code",
   "execution_count": null,
   "id": "cfba2d5a",
   "metadata": {},
   "outputs": [],
   "source": [
    "# Size of figure\n",
    "plt.figure(figsize=(10, 3))\n",
    "\n",
    "# Create a violin plot of the Quantity variable\n",
    "sns.violinplot(x='Month', data=df)\n",
    "\n",
    "# Add a title to the plot\n",
    "plt.title('Distribution of Month')\n",
    "\n",
    "# Display the plot\n",
    "plt.show()"
   ]
  },
  {
   "cell_type": "markdown",
   "id": "be3b26fb",
   "metadata": {},
   "source": [
    "### 4.1.5 - Day"
   ]
  },
  {
   "cell_type": "code",
   "execution_count": null,
   "id": "420c3e33",
   "metadata": {},
   "outputs": [],
   "source": [
    "# unique value count\n",
    "df['Day'].value_counts()"
   ]
  },
  {
   "cell_type": "code",
   "execution_count": null,
   "id": "f8228319",
   "metadata": {},
   "outputs": [],
   "source": [
    "# Frequency distribution of Day\n",
    "plt.figure(figsize=(10, 3))\n",
    "sns.histplot(df['Day'], bins=30, kde=True)\n",
    "plt.title(f'Distribution of Day')\n",
    "plt.xlabel('Day')\n",
    "plt.ylabel('Frequency')\n",
    "plt.show()"
   ]
  },
  {
   "cell_type": "code",
   "execution_count": null,
   "id": "3846a1f5",
   "metadata": {},
   "outputs": [],
   "source": [
    "# Size of figure\n",
    "plt.figure(figsize=(10, 3))\n",
    "\n",
    "# Create a violin plot of the Quantity variable\n",
    "sns.violinplot(x='Day', data=df)\n",
    "\n",
    "# Add a title to the plot\n",
    "plt.title('Distribution of Day')\n",
    "\n",
    "# Display the plot\n",
    "plt.show()"
   ]
  },
  {
   "cell_type": "markdown",
   "id": "95af7d0e",
   "metadata": {},
   "source": [
    "### 4.1.6 - Hour"
   ]
  },
  {
   "cell_type": "code",
   "execution_count": null,
   "id": "7c79868d",
   "metadata": {},
   "outputs": [],
   "source": [
    "# unique value count\n",
    "df['Hour'].value_counts()"
   ]
  },
  {
   "cell_type": "code",
   "execution_count": null,
   "id": "59085197",
   "metadata": {},
   "outputs": [],
   "source": [
    "# Frequency distribution of Hour\n",
    "plt.figure(figsize=(10, 3))\n",
    "sns.histplot(df['Hour'], bins=30, kde=True)\n",
    "plt.title(f'Distribution of Hour')\n",
    "plt.xlabel('Hour')\n",
    "plt.ylabel('Frequency')\n",
    "plt.show()"
   ]
  },
  {
   "cell_type": "code",
   "execution_count": null,
   "id": "d8407f84",
   "metadata": {},
   "outputs": [],
   "source": [
    "# Size of figure\n",
    "plt.figure(figsize=(10, 3))\n",
    "\n",
    "# Create a violin plot of the Quantity variable\n",
    "sns.violinplot(x='Hour', data=df)\n",
    "\n",
    "# Add a title to the plot\n",
    "plt.title('Distribution of Hour')\n",
    "\n",
    "# Display the plot\n",
    "plt.show()"
   ]
  },
  {
   "cell_type": "markdown",
   "id": "3753c7ef",
   "metadata": {},
   "source": [
    "### 4.1.7. Product Description"
   ]
  },
  {
   "cell_type": "code",
   "execution_count": null,
   "id": "e9300130",
   "metadata": {
    "scrolled": true
   },
   "outputs": [],
   "source": [
    "# unique value count\n",
    "df['Description'].value_counts()"
   ]
  },
  {
   "cell_type": "code",
   "execution_count": null,
   "id": "b3336835",
   "metadata": {},
   "outputs": [],
   "source": [
    "# Frequency distribution of Description\n",
    "plt.figure(figsize=(10, 3))\n",
    "sns.histplot(df['Description'], bins=30, kde=True)\n",
    "plt.title(f'Distribution of Description')\n",
    "plt.xlabel('Description')\n",
    "plt.ylabel('Frequency')\n",
    "plt.show()"
   ]
  },
  {
   "cell_type": "code",
   "execution_count": null,
   "id": "51585a00",
   "metadata": {},
   "outputs": [],
   "source": [
    "# Categorical Variables\n",
    "# Top 10 Product - in frequency\n",
    "\n",
    "categorical_vars = ['Description']\n",
    "for var in categorical_vars:\n",
    "    plt.figure(figsize=(10, 3))\n",
    "    sns.countplot(data= df, y=var, order=df[var].value_counts().index[:10])\n",
    "    plt.title(f'Top ten {var}')\n",
    "    plt.xticks(rotation=90)\n",
    "    plt.xlabel('Count')\n",
    "    plt.ylabel(var)\n",
    "    plt.show()"
   ]
  },
  {
   "cell_type": "markdown",
   "id": "315b23d9",
   "metadata": {},
   "source": [
    "### 4.1.8. Country "
   ]
  },
  {
   "cell_type": "code",
   "execution_count": null,
   "id": "e11af00d",
   "metadata": {},
   "outputs": [],
   "source": [
    "# unique value count\n",
    "df['Country'].value_counts()"
   ]
  },
  {
   "cell_type": "code",
   "execution_count": null,
   "id": "a44e3b69",
   "metadata": {},
   "outputs": [],
   "source": [
    "# Frequency distribution of Country\n",
    "plt.figure(figsize=(10, 3))\n",
    "sns.histplot(df['Country'], bins=30, kde=True)\n",
    "plt.title(f'Distribution of Country')\n",
    "plt.xlabel('Country')\n",
    "plt.xticks(rotation=90)\n",
    "plt.ylabel('Frequency')\n",
    "plt.show()"
   ]
  },
  {
   "cell_type": "code",
   "execution_count": null,
   "id": "f9460fc2",
   "metadata": {},
   "outputs": [],
   "source": [
    "# Categorical Variables\n",
    "# Top 10 Country - in frequency\n",
    "\n",
    "categorical_vars = ['Country']\n",
    "for var in categorical_vars:\n",
    "    plt.figure(figsize=(8, 3))\n",
    "    sns.countplot(data=df, x=var, order=df[var].value_counts().index[:10])\n",
    "    plt.title(f'Top ten {var}')\n",
    "    plt.xticks(rotation=45)\n",
    "    plt.xlabel(var)\n",
    "    plt.ylabel('Count')\n",
    "    plt.show()"
   ]
  },
  {
   "cell_type": "markdown",
   "id": "a3bdb947",
   "metadata": {},
   "source": [
    "# 4.2. Bivariate Analysis"
   ]
  },
  {
   "cell_type": "markdown",
   "id": "62b12a3f",
   "metadata": {},
   "source": [
    "## 4.2.1 Numeric vs Numeric "
   ]
  },
  {
   "cell_type": "markdown",
   "id": "96c2e0ad",
   "metadata": {},
   "source": [
    "### 4.2.1.1. Quantity Vs Price"
   ]
  },
  {
   "cell_type": "code",
   "execution_count": null,
   "id": "cd87526c",
   "metadata": {},
   "outputs": [],
   "source": [
    "plt.figure(figsize=(10, 3))\n",
    "\n",
    "# Create a scatter plot to visualize the relationship between 'Quantity' and 'Price'\n",
    "sns.scatterplot(x=df['Quantity'], y=df['Price'])\n",
    "\n",
    "# Add labels to the x- and y-axes\n",
    "plt.xlabel('Quantity')\n",
    "plt.ylabel('Price')\n",
    "\n",
    "# Add a title to the plot\n",
    "plt.title('Scatter Plot of Quantity vs. Price')\n",
    "\n",
    "# Show the plot\n",
    "plt.show()"
   ]
  },
  {
   "cell_type": "code",
   "execution_count": null,
   "id": "03c0b32b",
   "metadata": {},
   "outputs": [],
   "source": [
    "# Correlation heatmap between Quantity and Price\n",
    "plt.figure(figsize=(10, 2))\n",
    "attributes = ['Quantity','Price']\n",
    "correlation_matrix = df[attributes].corr()\n",
    "sns.heatmap(correlation_matrix, annot=True, cmap='coolwarm')\n",
    "plt.title('Correlation Heatmap')\n",
    "plt.show()"
   ]
  },
  {
   "cell_type": "code",
   "execution_count": null,
   "id": "e5d760d2",
   "metadata": {},
   "outputs": [],
   "source": [
    "# Group the data by Price\n",
    "grouped_df = df.groupby('Price')\n",
    "\n",
    "# Calculate the total quantity for price\n",
    "total_quantity_per_price = grouped_df['Quantity'].sum()\n",
    "\n",
    "# Create a bar plot\n",
    "plt.figure(figsize=(10, 3))\n",
    "plt.bar(total_quantity_per_price.index, total_quantity_per_price.values)\n",
    "\n",
    "# Set the labels for the x- and y-axes\n",
    "plt.xlabel('Price')\n",
    "plt.ylabel('Quantity')\n",
    "\n",
    "# Set the title of the plot\n",
    "plt.title('Total Quantity by Unit Price')\n",
    "\n",
    "# Show the plot\n",
    "plt.show()"
   ]
  },
  {
   "cell_type": "markdown",
   "id": "a5c06034",
   "metadata": {},
   "source": [
    "### 4.2.1.2 Quantity Vs Revenue"
   ]
  },
  {
   "cell_type": "code",
   "execution_count": null,
   "id": "b363db89",
   "metadata": {},
   "outputs": [],
   "source": [
    "# Create a correlation heatmap to visualize the relationships between 'Quantity' and 'Revenue'\n",
    "# The heatmap uses color intensity to represent the strength and direction of the correlation\n",
    "plt.figure(figsize=(10, 2))  # Set the figure size\n",
    "attributes = ['Quantity', 'Revenue']  # Specify the columns for correlation analysis\n",
    "correlation_matrix = df[attributes].corr()  # Compute the correlation matrix\n",
    "sns.heatmap(correlation_matrix, annot=True, cmap='coolwarm')  # Create the heatmap with annotations and color map\n",
    "plt.title('Correlation Heatmap Quantity vs Revenue')  # Set the title for the heatmap\n",
    "plt.show()  # Display the heatmap"
   ]
  },
  {
   "cell_type": "code",
   "execution_count": null,
   "id": "a8253924",
   "metadata": {},
   "outputs": [],
   "source": [
    "plt.figure(figsize=(10, 3))  # Set the figure size\n",
    "\n",
    "# Create a scatter plot to visualize the relationship between 'Quantity' and 'Revenue'\n",
    "sns.scatterplot(x=df['Quantity'], y=df['Revenue'])\n",
    "\n",
    "# Add labels to the x- and y-axes\n",
    "plt.xlabel('Quantity')\n",
    "plt.ylabel('Revenue')\n",
    "\n",
    "# Add a title to the plot\n",
    "plt.title('Scatter Plot of Quantity vs. Revenue')\n",
    "\n",
    "# Show the plot\n",
    "plt.show()\n"
   ]
  },
  {
   "cell_type": "code",
   "execution_count": null,
   "id": "bf5e8a7f",
   "metadata": {},
   "outputs": [],
   "source": [
    "\n",
    "# Group the data by day\n",
    "grouped_df = df.groupby('Quantity')\n",
    "\n",
    "# Calculate the total quantity for price\n",
    "total_quantity_per_Revenue = grouped_df['Revenue'].sum()\n",
    "\n",
    "plt.figure(figsize=(10, 3))  # Set the figure size\n",
    "\n",
    "# Create a bar plot\n",
    "plt.bar(total_quantity_per_Revenue.index, total_quantity_per_Revenue.values)\n",
    "\n",
    "# Set the labels for the x- and y-axes\n",
    "plt.xlabel('Quantity')\n",
    "plt.ylabel('Revenue')\n",
    "\n",
    "# Set the title of the plot\n",
    "plt.title('Total Revenue by Quantity')\n",
    "\n",
    "# Show the plot\n",
    "plt.show()"
   ]
  },
  {
   "cell_type": "markdown",
   "id": "6fbcd7dc",
   "metadata": {},
   "source": [
    "### 4.2.1.3 Quantity Vs Month"
   ]
  },
  {
   "cell_type": "code",
   "execution_count": null,
   "id": "78b0bfd8",
   "metadata": {},
   "outputs": [],
   "source": [
    "plt.figure(figsize=(10, 3))  # Set the figure size\n",
    "\n",
    "# Select only months related to 2010\n",
    "df_2010 = df.query('Month >= 1 and Month <= 12 and Year == 2010')\n",
    "\n",
    "# Create a scatter plot of the Quantity and Month columns in the new DataFrame\n",
    "sns.scatterplot(x='Quantity', y='Month', data=df_2010)\n",
    "\n",
    "# Add labels to the x- and y-axes\n",
    "plt.xlabel('Quantity')\n",
    "plt.ylabel('Month')\n",
    "\n",
    "# Add a title to the plot\n",
    "plt.title('Scatter Plot of Quantity vs. Month (2010)')\n",
    "\n",
    "# Show the plot\n",
    "plt.show()"
   ]
  },
  {
   "cell_type": "code",
   "execution_count": null,
   "id": "5d168f0a",
   "metadata": {},
   "outputs": [],
   "source": [
    "plt.figure(figsize=(10, 3))  # Set the figure size\n",
    "\n",
    "# Select only months related to 2011\n",
    "df_2011 = df.query('Month >= 1 and Month <= 12 and Year == 2011')\n",
    "\n",
    "# Create a scatter plot of the Quantity and Month columns in the new DataFrame\n",
    "sns.scatterplot(x='Quantity', y='Month', data=df_2011)\n",
    "\n",
    "# Add labels to the x- and y-axes\n",
    "plt.xlabel('Quantity')\n",
    "plt.ylabel('Month')\n",
    "\n",
    "# Add a title to the plot\n",
    "plt.title('Scatter Plot of Quantity vs. Month (2011)')\n",
    "\n",
    "# Show the plot\n",
    "plt.show()"
   ]
  },
  {
   "cell_type": "code",
   "execution_count": null,
   "id": "36416689",
   "metadata": {},
   "outputs": [],
   "source": [
    "# Create a pivot table of year, month, and quantity\n",
    "Monthly_Quantity = df.pivot_table(values= ['Quantity'], index=['Year', 'Month'], aggfunc='sum')\n",
    "\n",
    "# Reset the index of the pivot table to convert it to a DataFrame\n",
    "df_Monthly_Quantity = Monthly_Quantity.reset_index()\n",
    "\n",
    "print(df_Monthly_Quantity)"
   ]
  },
  {
   "cell_type": "code",
   "execution_count": null,
   "id": "55e450ec",
   "metadata": {},
   "outputs": [],
   "source": [
    "# Exploring Quantity trends over time\n",
    "plt.figure(figsize=(10, 3))\n",
    "sns.barplot(x= 'Month', y='Quantity', hue ='Year', data=df_Monthly_Quantity)\n",
    "\n",
    "# Set the labels and title\n",
    "plt.xlabel('Month')\n",
    "plt.ylabel('Sales Quantity')\n",
    "plt.title('Sales Quantity trend over time - Monthly')\n",
    "plt.show()"
   ]
  },
  {
   "cell_type": "code",
   "execution_count": null,
   "id": "9c65149c",
   "metadata": {},
   "outputs": [],
   "source": [
    "plt.figure(figsize=(10, 3))  # Set the figure size\n",
    "# Create a line plot \n",
    "df_Monthly_Quantity['Quantity'].plot()\n",
    "\n",
    "# Set the labels and title\n",
    "plt.xlabel('Month')\n",
    "plt.ylabel('Sales Quantity')\n",
    "plt.title('Sales Quantity trend over time - Monthly')\n",
    "plt.show()"
   ]
  },
  {
   "cell_type": "code",
   "execution_count": null,
   "id": "7a21158b",
   "metadata": {},
   "outputs": [],
   "source": [
    "# Correlation heatmap between Quantity and Price\n",
    "plt.figure(figsize=(10, 3))\n",
    "attributes = ['Quantity','Month']\n",
    "correlation_matrix = df_Monthly_Quantity[attributes].corr()\n",
    "sns.heatmap(correlation_matrix, annot=True, cmap='coolwarm')\n",
    "plt.title('Correlation Heatmap between Quantity and Month')\n",
    "plt.show()"
   ]
  },
  {
   "cell_type": "markdown",
   "id": "083d8d55",
   "metadata": {},
   "source": [
    "### 4.2.1.4 Quantity Vs Day"
   ]
  },
  {
   "cell_type": "code",
   "execution_count": null,
   "id": "1b482dcd",
   "metadata": {},
   "outputs": [],
   "source": [
    "plt.figure(figsize=(10, 3))  # Set the figure size\n",
    "\n",
    "# Create a scatter plot to visualize the relationship between 'Quantity' and 'Day'\n",
    "sns.scatterplot(x=df['Quantity'], y=df['Day'])\n",
    "\n",
    "# Add labels to the x- and y-axes\n",
    "plt.xlabel('Quantity')\n",
    "plt.ylabel('Day')\n",
    "\n",
    "# Add a title to the plot\n",
    "plt.title('Scatter Plot of Quantity vs. Day')\n",
    "\n",
    "# Show the plot\n",
    "plt.show()"
   ]
  },
  {
   "cell_type": "code",
   "execution_count": null,
   "id": "e7b7fb14",
   "metadata": {},
   "outputs": [],
   "source": [
    "# Create a pivot table of year, month, and quantity\n",
    "Daily_Quantity = df.pivot_table(values= ['Quantity'], index=['Year', 'Month', 'Day'], aggfunc='sum')\n",
    "\n",
    "# Reset the index of the pivot table to convert it to a DataFrame\n",
    "df_Daily_Quantity = Daily_Quantity.reset_index()\n",
    "\n",
    "print(df_Daily_Quantity)"
   ]
  },
  {
   "cell_type": "code",
   "execution_count": null,
   "id": "d9bcbac3",
   "metadata": {},
   "outputs": [],
   "source": [
    "# Group the DataFrame by month\n",
    "month_groups = df_Daily_Quantity.groupby(['Month', 'Year'])\n",
    "\n",
    "# Iterate through the groups and create a bar plot for each group\n",
    "for month, group in month_groups:\n",
    "    plt.figure(figsize=(10, 3))\n",
    "    sns.barplot(x='Day', y='Quantity', data=group)\n",
    "\n",
    "    # Set the labels and title\n",
    "    plt.xlabel('Day')\n",
    "    plt.ylabel('Sales Quantity')\n",
    "    plt.title(f'Sales Quantity trend over time for month no: {month} ')\n",
    "\n",
    "    # Show the plot\n",
    "    plt.show()"
   ]
  },
  {
   "cell_type": "code",
   "execution_count": null,
   "id": "ce0badf6",
   "metadata": {},
   "outputs": [],
   "source": [
    "plt.figure(figsize=(10, 3))  # Set the figure size\n",
    "\n",
    "# Create a line plot\n",
    "df_Daily_Quantity['Quantity'].plot()\n",
    "\n",
    "# set labels and Titles \n",
    "plt.xlabel('Day')\n",
    "plt.ylabel('Sales Quantity')\n",
    "plt.title('Sales Quantity trend over time- Daily')\n",
    "plt.show()"
   ]
  },
  {
   "cell_type": "code",
   "execution_count": null,
   "id": "de901b36",
   "metadata": {},
   "outputs": [],
   "source": [
    "# Correlation heatmap between Quantity and Price\n",
    "plt.figure(figsize=(10, 2))\n",
    "attributes = ['Quantity','Day']\n",
    "correlation_matrix = df_Daily_Quantity[attributes].corr()\n",
    "sns.heatmap(correlation_matrix, annot=True, cmap='coolwarm')\n",
    "plt.title('Correlation Heatmap between Quantity and Day')\n",
    "plt.show()"
   ]
  },
  {
   "cell_type": "markdown",
   "id": "19608a28",
   "metadata": {},
   "source": [
    "### 4.2.1.5 Quantity Vs Hour"
   ]
  },
  {
   "cell_type": "code",
   "execution_count": null,
   "id": "e60cfcae",
   "metadata": {},
   "outputs": [],
   "source": [
    "plt.figure(figsize=(10, 3))  # Set the figure size\n",
    "\n",
    "# Create a scatter plot to visualize the relationship between 'Quantity' and 'Month'\n",
    "sns.scatterplot(x=df['Quantity'], y=df['Hour'])\n",
    "\n",
    "# Add labels to the x- and y-axes\n",
    "plt.xlabel('Quantity')\n",
    "plt.ylabel('Hour')\n",
    "\n",
    "# Add a title to the plot\n",
    "plt.title('Scatter Plot of Quantity vs. Hour')\n",
    "\n",
    "# Show the plot\n",
    "plt.show()"
   ]
  },
  {
   "cell_type": "code",
   "execution_count": null,
   "id": "ca3e2855",
   "metadata": {},
   "outputs": [],
   "source": [
    "# Create a pivot table of year, month, and quantity\n",
    "Hourly_Quantity = df.pivot_table(values= ['Quantity'], index=['Year', 'Month', 'Day','Hour'], aggfunc='sum')\n",
    "\n",
    "# Reset the index of the pivot table to convert it to a DataFrame\n",
    "df_Hourly_Quantity = Hourly_Quantity.reset_index()\n",
    "\n",
    "print(df_Hourly_Quantity)"
   ]
  },
  {
   "cell_type": "code",
   "execution_count": null,
   "id": "8e504896",
   "metadata": {},
   "outputs": [],
   "source": [
    "plt.figure(figsize=(10, 3))  # Set the figure size\n",
    "\n",
    "# create a line plot \n",
    "df_Hourly_Quantity['Hour'].plot()\n",
    "\n",
    "# set labels and Titles\n",
    "plt.xlabel('Hour')\n",
    "plt.ylabel('Sales Quantity')\n",
    "plt.title('Sales Quantity trend over time - Hourly')\n",
    "plt.show()"
   ]
  },
  {
   "cell_type": "code",
   "execution_count": null,
   "id": "b2896589",
   "metadata": {},
   "outputs": [],
   "source": [
    "# Correlation heatmap between Quantity and Price\n",
    "plt.figure(figsize=(10, 2))\n",
    "attributes = ['Quantity','Hour']\n",
    "correlation_matrix = df_Hourly_Quantity[attributes].corr()\n",
    "sns.heatmap(correlation_matrix, annot=True, cmap='coolwarm')\n",
    "plt.title('Correlation Heatmap bwtween Quantity and Hour')\n",
    "plt.show()"
   ]
  },
  {
   "cell_type": "markdown",
   "id": "1d08cb3a",
   "metadata": {},
   "source": [
    "### 4.2.1.6. Revenue Vs Price"
   ]
  },
  {
   "cell_type": "code",
   "execution_count": null,
   "id": "8fda3189",
   "metadata": {},
   "outputs": [],
   "source": [
    "plt.figure(figsize=(10, 3))  # Set the figure size\n",
    "\n",
    "# Create a scatter plot to visualize the relationship between 'Quantity' and 'Price'\n",
    "sns.scatterplot(x=df['Revenue'], y=df['Price'])\n",
    "\n",
    "# Add labels to the x- and y-axes\n",
    "plt.xlabel('Revenue')\n",
    "plt.ylabel('Price')\n",
    "\n",
    "# Add a title to the plot\n",
    "plt.title('Scatter Plot of Revenue vs. Price')\n",
    "\n",
    "# Show the plot\n",
    "plt.show()"
   ]
  },
  {
   "cell_type": "code",
   "execution_count": null,
   "id": "a06e05da",
   "metadata": {},
   "outputs": [],
   "source": [
    "# Correlation heatmap between revenue and Price\n",
    "plt.figure(figsize=(10, 2))\n",
    "attributes = ['Revenue','Price']\n",
    "correlation_matrix = df[attributes].corr()\n",
    "sns.heatmap(correlation_matrix, annot=True, cmap='coolwarm')\n",
    "plt.title('Correlation Heatmap between Revenue and Unit Price')\n",
    "plt.show()"
   ]
  },
  {
   "cell_type": "code",
   "execution_count": null,
   "id": "4f2e2cbe",
   "metadata": {},
   "outputs": [],
   "source": [
    "# Group the data by day\n",
    "grouped_df = df.groupby('Price')\n",
    "\n",
    "# Calculate the total quantity for price\n",
    "total_revenue_per_price = grouped_df['Revenue'].sum()\n",
    "\n",
    "plt.figure(figsize=(10, 3))  # Set the figure size\n",
    "\n",
    "# Create a bar plot\n",
    "plt.bar(total_revenue_per_price.index, total_revenue_per_price.values)\n",
    "\n",
    "# Set the labels for the x- and y-axes\n",
    "plt.xlabel('Price')\n",
    "plt.ylabel('Revenue')\n",
    "\n",
    "# Set the title of the plot\n",
    "plt.title('Total Revenue by Unit Price')\n",
    "\n",
    "# Show the plot\n",
    "plt.show()"
   ]
  },
  {
   "cell_type": "markdown",
   "id": "43c0a9c1",
   "metadata": {},
   "source": [
    "### 4.2.1.7. Revenue Vs Month"
   ]
  },
  {
   "cell_type": "code",
   "execution_count": null,
   "id": "ca109817",
   "metadata": {},
   "outputs": [],
   "source": [
    "\n",
    "plt.figure(figsize=(10, 3))  # Set the figure size\n",
    "\n",
    "# Select only months related to 2010\n",
    "df_2010 = df.query('Month >= 1 and Month <= 12 and Year == 2010')\n",
    "\n",
    "# Create a scatter plot of the Revenue and Month columns in the new DataFrame\n",
    "sns.scatterplot(x='Revenue', y='Month', data=df_2010)\n",
    "\n",
    "# Add labels to the x- and y-axes\n",
    "plt.xlabel('Revenue')\n",
    "plt.ylabel('Month')\n",
    "\n",
    "# Add a title to the plot\n",
    "plt.title('Scatter Plot of Revenue vs. Month (2010)')\n",
    "\n",
    "# Show the plot\n",
    "plt.show()"
   ]
  },
  {
   "cell_type": "code",
   "execution_count": null,
   "id": "30a56c2a",
   "metadata": {},
   "outputs": [],
   "source": [
    "\n",
    "plt.figure(figsize=(10, 3))  # Set the figure size\n",
    "\n",
    "# Select only months related to 2011\n",
    "df_2010 = df.query('Month >= 1 and Month <= 12 and Year == 2011')\n",
    "\n",
    "# Create a scatter plot of the Revenue and Month columns in the new DataFrame\n",
    "sns.scatterplot(x='Revenue', y='Month', data=df_2011)\n",
    "\n",
    "# Add labels to the x- and y-axes\n",
    "plt.xlabel('Revenue')\n",
    "plt.ylabel('Month')\n",
    "\n",
    "# Add a title to the plot\n",
    "plt.title('Scatter Plot of Revenue vs. Month (2011)')\n",
    "\n",
    "# Show the plot\n",
    "plt.show()"
   ]
  },
  {
   "cell_type": "code",
   "execution_count": null,
   "id": "ab16cd68",
   "metadata": {},
   "outputs": [],
   "source": [
    "# Create a pivot table of year, month, and Revenue\n",
    "Monthly_Revenue = df.pivot_table(values= ['Revenue'], index=['Year', 'Month'], aggfunc='sum')\n",
    "\n",
    "# Reset the index of the pivot table to convert it to a DataFrame\n",
    "df_Monthly_Revenue = Monthly_Revenue.reset_index()\n",
    "\n",
    "print(df_Monthly_Revenue)"
   ]
  },
  {
   "cell_type": "code",
   "execution_count": null,
   "id": "5ae8b5d5",
   "metadata": {},
   "outputs": [],
   "source": [
    "# Exploring Quantity trends over time\n",
    "plt.figure(figsize=(10, 3))\n",
    "sns.barplot(x= 'Month', y='Revenue', hue ='Year', data=df_Monthly_Revenue)\n",
    "\n",
    "# Set the labels and title\n",
    "plt.xlabel('Month')\n",
    "plt.ylabel('Revenue')\n",
    "plt.title('Sales Revenue trend over time - Monthly')\n",
    "plt.show()"
   ]
  },
  {
   "cell_type": "code",
   "execution_count": null,
   "id": "c16d9f5a",
   "metadata": {},
   "outputs": [],
   "source": [
    "plt.figure(figsize=(10, 3))  # Set the figure size\n",
    "\n",
    "# Create a line plot \n",
    "df_Monthly_Revenue['Revenue'].plot()\n",
    "\n",
    "# Set label and title \n",
    "plt.xlabel('Month')\n",
    "plt.ylabel('Revenue')\n",
    "plt.title('Sales Revenue trend over time - Monthly')\n",
    "plt.show()"
   ]
  },
  {
   "cell_type": "code",
   "execution_count": null,
   "id": "e7fd0d3c",
   "metadata": {},
   "outputs": [],
   "source": [
    "# Correlation heatmap between Revenue and Month\n",
    "plt.figure(figsize=(10, 2)) # size of plot \n",
    "attributes = ['Revenue','Month']\n",
    "correlation_matrix = df_Monthly_Revenue[attributes].corr()\n",
    "sns.heatmap(correlation_matrix, annot=True, cmap='coolwarm')\n",
    "plt.title('Correlation Heatmap between Revenue and Month')\n",
    "plt.show()"
   ]
  },
  {
   "cell_type": "markdown",
   "id": "b934cd33",
   "metadata": {},
   "source": [
    "### 4.2.1.8. Revenue Vs Day"
   ]
  },
  {
   "cell_type": "code",
   "execution_count": null,
   "id": "11667c44",
   "metadata": {},
   "outputs": [],
   "source": [
    "plt.figure(figsize=(10, 3))  # Set the figure size\n",
    "\n",
    "# Create a scatter plot to visualize the relationship between 'revenue' and 'Day'\n",
    "sns.scatterplot(x=df['Revenue'], y=df['Day'])\n",
    "\n",
    "# Add labels to the x- and y-axes\n",
    "plt.xlabel('Revenue')\n",
    "plt.ylabel('Day')\n",
    "\n",
    "# Add a title to the plot\n",
    "plt.title('Scatter Plot of Revenue vs. Day')\n",
    "\n",
    "# Show the plot\n",
    "plt.show()"
   ]
  },
  {
   "cell_type": "code",
   "execution_count": null,
   "id": "5d8ec28d",
   "metadata": {},
   "outputs": [],
   "source": [
    "# Create a pivot table of year, month, and quantity\n",
    "Daily_Revenue = df.pivot_table(values= ['Revenue'], index=['Year', 'Month', 'Day'], aggfunc='sum')\n",
    "\n",
    "# Reset the index of the pivot table to convert it to a DataFrame\n",
    "df_Daily_Revenue = Daily_Revenue.reset_index()\n",
    "\n",
    "print(df_Daily_Revenue)"
   ]
  },
  {
   "cell_type": "code",
   "execution_count": null,
   "id": "f5919b28",
   "metadata": {},
   "outputs": [],
   "source": [
    "# Group the DataFrame by month\n",
    "month_groups = df_Daily_Revenue.groupby(['Month', 'Year'])\n",
    "\n",
    "# Iterate through the groups and create a bar plot for each group\n",
    "for month, group in month_groups:\n",
    "    plt.figure(figsize=(10, 3))\n",
    "    sns.barplot(x='Day', y='Revenue', data=group)\n",
    "\n",
    "    # Set the labels and title\n",
    "    plt.xlabel('Day')\n",
    "    plt.ylabel('Sales Revenue')\n",
    "    plt.title(f'Sales Revenue trend over time for month no: {month} ')\n",
    "\n",
    "    # Show the plot\n",
    "    plt.show()"
   ]
  },
  {
   "cell_type": "code",
   "execution_count": null,
   "id": "0a4023d2",
   "metadata": {},
   "outputs": [],
   "source": [
    "plt.figure(figsize=(10, 3))  # Set the figure size\n",
    "\n",
    "# create a line plot \n",
    "df_Daily_Revenue['Revenue'].plot()\n",
    "\n",
    "# Set the labels and title\n",
    "plt.xlabel('Day')\n",
    "plt.ylabel('Sales Revenue')\n",
    "plt.title('Sales Revenue trend over time - Daily')\n",
    "plt.show()"
   ]
  },
  {
   "cell_type": "code",
   "execution_count": null,
   "id": "66b05b71",
   "metadata": {},
   "outputs": [],
   "source": [
    "# Correlation heatmap between Quantity and Price\n",
    "plt.figure(figsize=(10, 2))\n",
    "attributes = ['Revenue','Day']\n",
    "correlation_matrix = df_Daily_Revenue[attributes].corr()\n",
    "sns.heatmap(correlation_matrix, annot=True, cmap='coolwarm')\n",
    "plt.title('Correlation Heatmap')\n",
    "plt.show()"
   ]
  },
  {
   "cell_type": "markdown",
   "id": "d271afe5",
   "metadata": {},
   "source": [
    "### 4.2.1.9. Revenue Vs Hour"
   ]
  },
  {
   "cell_type": "code",
   "execution_count": null,
   "id": "77d6afae",
   "metadata": {},
   "outputs": [],
   "source": [
    "plt.figure(figsize=(10, 3))  # Set the figure size\n",
    "\n",
    "# Create a scatter plot to visualize the relationship between 'Revenue' and 'Hour'\n",
    "sns.scatterplot(x=df['Revenue'], y=df['Hour'])\n",
    "\n",
    "# Add labels to the x- and y-axes\n",
    "plt.xlabel('Revenue')\n",
    "plt.ylabel('Hour')\n",
    "\n",
    "# Add a title to the plot\n",
    "plt.title('Scatter Plot of Revenue vs. Hour')\n",
    "\n",
    "# Show the plot\n",
    "plt.show()"
   ]
  },
  {
   "cell_type": "code",
   "execution_count": null,
   "id": "455b5e76",
   "metadata": {},
   "outputs": [],
   "source": [
    "# Create a pivot table of year, month, and quantity\n",
    "Hourly_revenue = df.pivot_table(values= ['Revenue'], index=['Year', 'Month', 'Day','Hour'], aggfunc='sum')\n",
    "\n",
    "# Reset the index of the pivot table to convert it to a DataFrame\n",
    "df_Hourly_revenue = Hourly_revenue.reset_index()\n",
    "\n",
    "print(df_Hourly_revenue)"
   ]
  },
  {
   "cell_type": "code",
   "execution_count": null,
   "id": "2441ef5d",
   "metadata": {},
   "outputs": [],
   "source": [
    "plt.figure(figsize=(10, 3)) # size of the plot\n",
    "\n",
    "# create a line plot \n",
    "df_Hourly_revenue['Hour'].plot()\n",
    "\n",
    "# Set the labels and title\n",
    "plt.xlabel('Hour')\n",
    "plt.ylabel('Sales Revenue')\n",
    "plt.title('Sales Revenue trend over time - Hourly')\n",
    "plt.show()"
   ]
  },
  {
   "cell_type": "code",
   "execution_count": null,
   "id": "c98bb0cc",
   "metadata": {},
   "outputs": [],
   "source": [
    "# Correlation heatmap between revenue and Hour\n",
    "plt.figure(figsize=(10, 2))\n",
    "attributes = ['Revenue','Hour']\n",
    "correlation_matrix = df_Hourly_revenue[attributes].corr()\n",
    "sns.heatmap(correlation_matrix, annot=True, cmap='coolwarm')\n",
    "plt.title('Correlation Heatmap between Revenue and Hour')\n",
    "plt.show()"
   ]
  },
  {
   "cell_type": "markdown",
   "id": "0f6e19de",
   "metadata": {},
   "source": [
    "## 4.2.2 Numeric vs Nominal"
   ]
  },
  {
   "cell_type": "markdown",
   "id": "8e48fd06",
   "metadata": {},
   "source": [
    "### 4.2.2.1 Quantity Vs Product Description"
   ]
  },
  {
   "cell_type": "code",
   "execution_count": null,
   "id": "6e5fe7e9",
   "metadata": {},
   "outputs": [],
   "source": [
    "# Exploring top ten product with maximum quantity sold \n",
    "plt.figure(figsize=(10, 3))\n",
    "df_High_Quantity_10 = df.sort_values('Quantity', ascending=False).head(10)\n",
    "\n",
    "# create a bar plot using the Seaborn library\n",
    "sns.barplot(x='Quantity', y='Description', data=df_High_Quantity_10)\n",
    "\n",
    "# Set the labels and title\n",
    "plt.xlabel('Quantity')\n",
    "plt.title('Top ten product with maximum quantity sold in single transaction')\n",
    "plt.show()"
   ]
  },
  {
   "cell_type": "code",
   "execution_count": null,
   "id": "8990089e",
   "metadata": {
    "scrolled": true
   },
   "outputs": [],
   "source": [
    "# Create a pivot table of Description and quantity\n",
    "Description_Quantity = df.pivot_table(values= ['Quantity'], index=['Description'], aggfunc='sum')\n",
    "\n",
    "# Reset the index of the pivot table to convert it to a DataFrame\n",
    "df_Description_Quantity= Description_Quantity.reset_index()\n",
    "\n",
    "print(df_Description_Quantity)"
   ]
  },
  {
   "cell_type": "code",
   "execution_count": null,
   "id": "f688311e",
   "metadata": {},
   "outputs": [],
   "source": [
    "# Exploring product popularity by Quantity sold\n",
    "plt.figure(figsize=(10, 3))\n",
    "df_Description_Quantity_Top10 = df_Description_Quantity.sort_values('Quantity', ascending=False).head(10)\n",
    "\n",
    "# create a bar plot using the Seaborn library\n",
    "sns.barplot(x='Quantity', y='Description', data=df_Description_Quantity_Top10)\n",
    "\n",
    "# Set the labels and title\n",
    "plt.xlabel('Sales Quantity')\n",
    "plt.title('Top 10 Popular Products by Total sales quantity')\n",
    "plt.show()"
   ]
  },
  {
   "cell_type": "markdown",
   "id": "1cbf2872",
   "metadata": {},
   "source": [
    "### 4.2.2.2 Quantity Vs Country"
   ]
  },
  {
   "cell_type": "code",
   "execution_count": null,
   "id": "628fba0f",
   "metadata": {},
   "outputs": [],
   "source": [
    "# Create a pivot table of year, month, and quantity\n",
    "Country_Quantity = df.pivot_table(values= ['Quantity'], index=['Country'], aggfunc='sum')\n",
    "\n",
    "# Reset the index of the pivot table to convert it to a DataFrame\n",
    "df_Country_Quantity = Country_Quantity.reset_index()\n",
    "\n",
    "print(df_Country_Quantity)"
   ]
  },
  {
   "cell_type": "code",
   "execution_count": null,
   "id": "169c9781",
   "metadata": {},
   "outputs": [],
   "source": [
    "# Exploring sales quantity trends over time\n",
    "plt.figure(figsize=(10, 3))\n",
    "df_High_Quen_10 = df_Country_Quantity.sort_values('Quantity', ascending=False).head(10)\n",
    "\n",
    "# create a bar plot using the Seaborn library\n",
    "sns.barplot(x= 'Quantity', y='Country', data=df_High_Quen_10)\n",
    "\n",
    "# Set the labels and title\n",
    "plt.xlabel('Quantity')\n",
    "plt.ylabel('Country')\n",
    "plt.title('Top 10 Countries by Sales Quantity')\n",
    "plt.show()\n"
   ]
  },
  {
   "cell_type": "markdown",
   "id": "d8d7bead",
   "metadata": {},
   "source": [
    "### 3.2.2.3. Revenue Vs Product Description"
   ]
  },
  {
   "cell_type": "code",
   "execution_count": null,
   "id": "2fbe4323",
   "metadata": {},
   "outputs": [],
   "source": [
    "# Exploring product with High unit price\n",
    "plt.figure(figsize=(10, 3))\n",
    "df_High_Rev_10 = df.sort_values('Revenue', ascending=False).head(10)\n",
    "\n",
    "# create a bar plot using the Seaborn library\n",
    "sns.barplot(x='Revenue', y='Description', data=df_High_Rev_10)\n",
    "\n",
    "# Set the labels and title\n",
    "plt.xlabel('Revenue')\n",
    "plt.title('Top ten High Revenue products')\n",
    "plt.show()"
   ]
  },
  {
   "cell_type": "code",
   "execution_count": null,
   "id": "6c2786fc",
   "metadata": {
    "scrolled": true
   },
   "outputs": [],
   "source": [
    "# Create a pivot table of Description and quantity\n",
    "Description_Revenue = df.pivot_table(values= ['Revenue'], index=['Description'], aggfunc='sum')\n",
    "\n",
    "# Reset the index of the pivot table to convert it to a DataFrame\n",
    "df_Description_Revenue= Description_Revenue.reset_index()\n",
    "\n",
    "\n",
    "print(df_Description_Revenue)"
   ]
  },
  {
   "cell_type": "code",
   "execution_count": null,
   "id": "b0e2c463",
   "metadata": {},
   "outputs": [],
   "source": [
    "# Exploring product popularity by Quantity sold\n",
    "plt.figure(figsize=(10, 3))\n",
    "df_Description_Revenue_Top10 = df_Description_Revenue.sort_values('Revenue', ascending=False).head(10)\n",
    "\n",
    "# create a bar plot using the Seaborn library\n",
    "sns.barplot(x='Revenue', y='Description', data=df_Description_Revenue_Top10)\n",
    "\n",
    "# Set the labels and title\n",
    "plt.xlabel('Sales Revenue')\n",
    "plt.title('Top 10 Popular Products by cumulative sales Revenue')\n",
    "plt.show()"
   ]
  },
  {
   "cell_type": "markdown",
   "id": "2c3f77ca",
   "metadata": {},
   "source": [
    "### 4.2.2.4 Revenue Vs Country"
   ]
  },
  {
   "cell_type": "code",
   "execution_count": null,
   "id": "06f8925b",
   "metadata": {},
   "outputs": [],
   "source": [
    "# Create a pivot table of year, month, and quantity\n",
    "Country_Revenue = df.pivot_table(values= ['Revenue'], index=['Country'], aggfunc='sum')\n",
    "\n",
    "# Reset the index of the pivot table to convert it to a DataFrame\n",
    "df_Country_Revenue = Country_Revenue.reset_index()\n",
    "\n",
    "print(df_Country_Revenue)"
   ]
  },
  {
   "cell_type": "code",
   "execution_count": null,
   "id": "f157d277",
   "metadata": {},
   "outputs": [],
   "source": [
    "plt.figure(figsize=(10, 3))\n",
    "df_High_Reve_10 = df_Country_Revenue.sort_values('Revenue', ascending=False).head(10)\n",
    "\n",
    "# create a bar plot using the Seaborn library\n",
    "sns.barplot(x= 'Revenue', y='Country', data=df_High_Reve_10)\n",
    "\n",
    "# Set the labels and title\n",
    "plt.xlabel('Revenue')\n",
    "plt.ylabel('Country')\n",
    "plt.title('Top 10 Countries by Sales Revenue')\n",
    "plt.show()"
   ]
  },
  {
   "cell_type": "markdown",
   "id": "52365467",
   "metadata": {},
   "source": [
    "### 4.2.2.5 Unit Price Vs Product Description"
   ]
  },
  {
   "cell_type": "code",
   "execution_count": null,
   "id": "740df525",
   "metadata": {},
   "outputs": [],
   "source": [
    "# Create a pivot table of year, month, and quantity\n",
    "Product_AvePrice = df.pivot_table(values= ['Price'], index=['Description'], aggfunc='mean')\n",
    "\n",
    "# Reset the index of the pivot table to convert it to a DataFrame\n",
    "df_Product_AvePrice = Product_AvePrice.reset_index()\n",
    "\n",
    "print(df_Product_AvePrice)"
   ]
  },
  {
   "cell_type": "code",
   "execution_count": null,
   "id": "f9c8aaba",
   "metadata": {},
   "outputs": [],
   "source": [
    "plt.figure(figsize=(10, 3))\n",
    "df_High_Price_10 = df_Product_AvePrice.sort_values('Price', ascending=False).head(10)\n",
    "\n",
    "# create a bar plot using the Seaborn library\n",
    "sns.barplot(x= 'Price', y='Description', data=df_High_Price_10)\n",
    "\n",
    "# Set the labels and title\n",
    "plt.xlabel('Average Unit Price')\n",
    "plt.ylabel('Product ')\n",
    "plt.title('Top 10 Products by Average Unit Price')\n",
    "plt.show()"
   ]
  },
  {
   "cell_type": "code",
   "execution_count": null,
   "id": "3f0155bf",
   "metadata": {},
   "outputs": [],
   "source": [
    "df_Product_AvePrice.describe()"
   ]
  },
  {
   "cell_type": "code",
   "execution_count": null,
   "id": "d0d83606",
   "metadata": {},
   "outputs": [],
   "source": [
    "plt.figure(figsize=(10, 3))\n",
    "df_Low_Price_10 = df_Product_AvePrice.sort_values('Price', ascending=True).head(10)\n",
    "\n",
    "# create a bar plot using the Seaborn library\n",
    "sns.barplot(x= 'Price', y='Description', data=df_Low_Price_10)\n",
    "\n",
    "# Set the labels and title\n",
    "plt.xlabel('Average Unit Price')\n",
    "plt.ylabel('Product ')\n",
    "plt.title('Least 10 Products by Average Unit Price')\n",
    "plt.show()"
   ]
  },
  {
   "cell_type": "code",
   "execution_count": null,
   "id": "3b3f8850",
   "metadata": {},
   "outputs": [],
   "source": [
    "# Exploring product with High unit price\n",
    "plt.figure(figsize=(10, 3))\n",
    "df_High_Price_10 = df.sort_values('Price', ascending=False).head(10)\n",
    "\n",
    "# create a bar plot using the Seaborn library\n",
    "sns.barplot(x='Price', y='Description', data=df_High_Price_10)\n",
    "\n",
    "# Set the labels and title\n",
    "plt.xlabel('Unit Price')\n",
    "plt.title('Top 10 High unit price products')\n",
    "plt.show()"
   ]
  },
  {
   "cell_type": "code",
   "execution_count": null,
   "id": "50c92af8",
   "metadata": {},
   "outputs": [],
   "source": [
    "# Exploring product with Low unit price\n",
    "plt.figure(figsize=(10, 3))\n",
    "df_Low_Price_10 = df.sort_values('Price', ascending=True).head(10)\n",
    "sns.barplot(x='Description', y='Price', data=df_Low_Price_10)\n",
    "\n",
    "# Set the labels and title\n",
    "plt.xlabel('Product')\n",
    "plt.title('Top 10 low price products')\n",
    "plt.show()"
   ]
  },
  {
   "cell_type": "code",
   "execution_count": null,
   "id": "3df2b146",
   "metadata": {},
   "outputs": [],
   "source": [
    "# Get the Quantity column from the DataFrame\n",
    "Aprice = df_Product_AvePrice['Price']\n",
    "\n",
    "# Calculate the mean and standard deviation of the Quantity column\n",
    "mean = np.mean(Aprice)\n",
    "std = np.std(Aprice)\n",
    "\n",
    "# Determine the range of values that fall within each percentage range\n",
    "lower_68 = mean - std\n",
    "upper_68 = mean + std\n",
    "lower_95 = mean - 2 * std\n",
    "upper_95 = mean + 2 * std\n",
    "lower_997 = mean - 3 * std\n",
    "upper_997 = mean + 3 * std\n",
    "\n",
    "# Size of figure\n",
    "plt.figure(figsize=(10, 3))\n",
    "\n",
    "# Create a normal distribution\n",
    "x = np.random.normal(mean, std, 1000)\n",
    "\n",
    "# Plot the normal distribution\n",
    "plt.hist(x, bins=50, density=True)\n",
    "\n",
    "# Plot the mean line\n",
    "plt.axvline(mean, color='r', linestyle='--')\n",
    "\n",
    "# Shade in the areas that fall within each percentage range\n",
    "plt.axvspan(lower_68, upper_68, alpha=0.5, color='g')\n",
    "plt.axvspan(lower_95, upper_95, alpha=0.25, color='b')\n",
    "plt.axvspan(lower_997, upper_997, alpha=0.125, color='y')\n",
    "\n",
    "# Add labels and title\n",
    "plt.xlabel('Value')\n",
    "plt.ylabel('Density')\n",
    "plt.title('Normal Distribution of Average Unit Price of Product with 68%, 95%, and 99.7% Indicated')\n",
    "\n",
    "# Show the plot\n",
    "plt.show()"
   ]
  },
  {
   "cell_type": "markdown",
   "id": "aa23170c",
   "metadata": {},
   "source": [
    "## 4.2.3  Nominal vs Nominal"
   ]
  },
  {
   "cell_type": "markdown",
   "id": "e2d19c5c",
   "metadata": {},
   "source": [
    "### 4.2.3.1 Country Vs  Product Desctiption"
   ]
  },
  {
   "cell_type": "code",
   "execution_count": null,
   "id": "12439216",
   "metadata": {},
   "outputs": [],
   "source": [
    "# Create a contingency table and visualize it using a heatmap to analyze the relationship between 'Country' and 'Description'\n",
    "contingency_table = pd.crosstab(df['Description'], df['Country'])  # Create the contingency table\n",
    "\n",
    "plt.figure(figsize=(16, 30))  # Set the figure size\n",
    "\n",
    "sns.heatmap(contingency_table, cmap='RdBu', vmin=0, vmax=100)  # Create the heatmap\n",
    "\n",
    "# Set the labels and title\n",
    "plt.title('Country vs. Description')  # Set the title\n",
    "plt.xlabel('Country')  # Set the x-axis label\n",
    "plt.ylabel('Description')  # Set the y-axis label\n",
    "plt.show()  # Display the heatmap"
   ]
  },
  {
   "cell_type": "code",
   "execution_count": null,
   "id": "6f28563a",
   "metadata": {},
   "outputs": [],
   "source": [
    "# Group the Data Frame by country\n",
    "grouped_df = df.groupby('Country')\n",
    "\n",
    "# Count the number of unique products purchased by each country\n",
    "unique_products = grouped_df['Description'].nunique()\n",
    "\n",
    "\n",
    "# Convert the correlation coefficients into a DataFrame\n",
    "df_unique = pd.DataFrame({'Country': unique_products.index,'Unique Products': unique_products.values})\n",
    "\n",
    "# Return the new DataFrame\n",
    "print(df_unique)"
   ]
  },
  {
   "cell_type": "code",
   "execution_count": null,
   "id": "fc6e0596",
   "metadata": {},
   "outputs": [],
   "source": [
    "plt.figure(figsize=(4, 10)) # Size of the plot \n",
    "\n",
    "# create a bar plot using the Seaborn library\n",
    "sns.barplot(x= 'Unique Products', y='Country', data=df_unique)\n",
    "\n",
    "# Set the labels and title\n",
    "plt.xlabel('Unique Products')\n",
    "plt.ylabel('Country')\n",
    "plt.title('Unique products by Country')\n",
    "plt.show()"
   ]
  },
  {
   "cell_type": "markdown",
   "id": "057dfb41",
   "metadata": {},
   "source": [
    "# 4.3 Multivariate analysis"
   ]
  },
  {
   "cell_type": "markdown",
   "id": "7d555ae1",
   "metadata": {},
   "source": [
    "### 4.3.1 Monthly - Quantity - Revenue"
   ]
  },
  {
   "cell_type": "code",
   "execution_count": null,
   "id": "835f9d23",
   "metadata": {},
   "outputs": [],
   "source": [
    "# Add the column Revenue from df_Monthly_Revenue to df_Monthly_Quantity using join()\n",
    "df_Monthly = df_Monthly_Quantity.join(df_Monthly_Revenue[['Revenue']], how='outer')\n",
    "\n",
    "# Print the DataFrame\n",
    "print(df_Monthly)"
   ]
  },
  {
   "cell_type": "code",
   "execution_count": null,
   "id": "7df4d349",
   "metadata": {},
   "outputs": [],
   "source": [
    "plt.figure(figsize=(10, 3))  # Set the figure size\n",
    "\n",
    "# Select only months related to 2010\n",
    "df_2010 = df_Monthly.query('Month >= 1 and Month <= 12 and Year == 2010')\n",
    "\n",
    "# Create a scatter plot of the Quantity and Revenue columns in the new DataFrame\n",
    "sns.scatterplot(x='Quantity', y='Revenue', data=df_2010)\n",
    "\n",
    "# Add labels to the x- and y-axes\n",
    "plt.xlabel('Quantity')\n",
    "plt.ylabel('Revenue')\n",
    "\n",
    "# Add a title to the plot\n",
    "plt.title('Scatter Plot of Quantity vs. Revenue in Month(2010)')\n",
    "\n",
    "# Show the plot\n",
    "plt.show()"
   ]
  },
  {
   "cell_type": "code",
   "execution_count": null,
   "id": "5c1820b8",
   "metadata": {},
   "outputs": [],
   "source": [
    "plt.figure(figsize=(10, 3))  # Set the figure size\n",
    "\n",
    "# Select only months related to 2011\n",
    "df_2011 = df_Monthly.query('Month >= 1 and Month <= 12 and Year == 2011')\n",
    "\n",
    "# Create a scatter plot of the Quantity and Revenue columns in the new DataFrame\n",
    "sns.scatterplot(x='Quantity', y='Revenue', data=df_2011)\n",
    "\n",
    "# Add labels to the x- and y-axes\n",
    "plt.xlabel('Quantity')\n",
    "plt.ylabel('Revenue')\n",
    "\n",
    "# Add a title to the plot\n",
    "plt.title('Scatter Plot of Quantity vs. Revenue in Month(2011)')\n",
    "\n",
    "# Show the plot\n",
    "plt.show()"
   ]
  },
  {
   "cell_type": "code",
   "execution_count": null,
   "id": "8565d6ea",
   "metadata": {},
   "outputs": [],
   "source": [
    "# Group the DataFrame by Year  and Month\n",
    "grouped_df = df.groupby(['Year', 'Month'])\n",
    "\n",
    "\n",
    "# Calculate the correlation coefficient between quantity and revenue for each month and year \n",
    "correlations = grouped_df.apply(lambda x: x['Quantity'].corr(x['Revenue']))\n",
    "\n",
    "# Print the correlation coefficients\n",
    "print(correlations)"
   ]
  },
  {
   "cell_type": "code",
   "execution_count": null,
   "id": "a2460745",
   "metadata": {},
   "outputs": [],
   "source": [
    "# Create a correlation heatmap to visualize the relationships between 'Total Quantity' and 'Total Revenue' of each month\n",
    "# The heatmap uses color intensity to represent the strength and direction of the correlation\n",
    "plt.figure(figsize=(10, 2))\n",
    "attributes = ['Quantity','Revenue','Month']\n",
    "correlation_matrix = df_Monthly[attributes].corr()\n",
    "sns.heatmap(correlation_matrix, annot=True, cmap='coolwarm')\n",
    "plt.title('Correlation Heatmap - Month vs Quantity vs Revenue')\n",
    "plt.show()"
   ]
  },
  {
   "cell_type": "markdown",
   "id": "1705c8dc",
   "metadata": {},
   "source": [
    "### 4.3.2  Country - Quantity- Revenue"
   ]
  },
  {
   "cell_type": "code",
   "execution_count": null,
   "id": "16adff87",
   "metadata": {},
   "outputs": [],
   "source": [
    "# Add the column Revenue from df_Country_Revenue to df_Country_Quantity using join()\n",
    "df_Country = df_Country_Quantity.join(df_Country_Revenue[['Revenue']], how='outer')\n",
    "\n",
    "# Print the DataFrame\n",
    "print(df_Country)"
   ]
  },
  {
   "cell_type": "code",
   "execution_count": null,
   "id": "767e7c87",
   "metadata": {},
   "outputs": [],
   "source": [
    "plt.figure(figsize=(10, 3))  # Set the figure size\n",
    "\n",
    "# Create a scatter plot to visualize the relationship between 'Total Revenue' and 'Total Quantity' of each Country \n",
    "sns.scatterplot(x=df_Country['Revenue'], y=df_Country['Quantity'])\n",
    "\n",
    "# Add labels to the x- and y-axes\n",
    "plt.xlabel('Revenue')\n",
    "plt.ylabel('Quantity')\n",
    "\n",
    "# Add a title to the plot\n",
    "plt.title('Scatter Plot of Revenue vs. Quantity - Country based')\n",
    "\n",
    "# Show the plot\n",
    "plt.show()"
   ]
  },
  {
   "cell_type": "code",
   "execution_count": null,
   "id": "28a89de3",
   "metadata": {},
   "outputs": [],
   "source": [
    "## Create a correlation heatmap to visualize the relationships between 'Total Quantity', 'Total Revenue', of each country\n",
    "# The heatmap uses color intensity to represent the strength and direction of correlations\n",
    "plt.figure(figsize=(10, 2))\n",
    "attributes = ['Quantity','Revenue']\n",
    "correlation_matrix = df_Country[attributes].corr()\n",
    "sns.heatmap(correlation_matrix, annot=True, cmap='coolwarm')\n",
    "plt.title('Correlation Heatmap between Quanity and  Revenue - Country based')\n",
    "plt.show()"
   ]
  },
  {
   "cell_type": "code",
   "execution_count": null,
   "id": "8b9fef05",
   "metadata": {},
   "outputs": [],
   "source": [
    "# Group the DataFrame by country and product\n",
    "grouped_df = df.groupby(['Country'])\n",
    "\n",
    "# Calculate the correlation coefficient between quantity and revenue for each country\n",
    "correlations = grouped_df.apply(lambda x: x['Quantity'].corr(x['Revenue']))\n",
    "\n",
    "# Convert the correlation coefficients into a DataFrame\n",
    "df_correlations = pd.DataFrame({'Country': correlations.index,\n",
    "                               'Correlation': correlations.values})\n",
    "\n",
    "# Return the new DataFrame\n",
    "print(df_correlations)"
   ]
  },
  {
   "cell_type": "code",
   "execution_count": null,
   "id": "01a4be78",
   "metadata": {},
   "outputs": [],
   "source": [
    "plt.figure(figsize=(4, 10))\n",
    "sns.barplot(x= 'Correlation', y='Country', data=df_correlations)\n",
    "\n",
    "# Set the labels and title\n",
    "plt.xlabel('Correlation')\n",
    "plt.ylabel('Country')\n",
    "plt.title('Correlation between Quantity and Revenue within Country')\n",
    "plt.show()"
   ]
  },
  {
   "cell_type": "code",
   "execution_count": null,
   "id": "14c180f1",
   "metadata": {},
   "outputs": [],
   "source": [
    "# Create a pairplot of Quantity vs Revenue.\n",
    "sns.pairplot(df_Country[['Quantity', 'Revenue']])\n",
    "\n",
    "# Display the plot\n",
    "plt.show()"
   ]
  },
  {
   "cell_type": "markdown",
   "id": "bd82d0be",
   "metadata": {},
   "source": [
    "### 4.3.3 Product - Quantity - Revenue "
   ]
  },
  {
   "cell_type": "code",
   "execution_count": null,
   "id": "03a38170",
   "metadata": {},
   "outputs": [],
   "source": [
    "# Add the column Revenue from df_Description_Revenue to df_Description_Quantity using join()\n",
    "df_Description = df_Description_Quantity.join(df_Description_Revenue[['Revenue']], how='outer')\n",
    "\n",
    "# Print the DataFrame\n",
    "print(df_Description)"
   ]
  },
  {
   "cell_type": "code",
   "execution_count": null,
   "id": "88d553ba",
   "metadata": {},
   "outputs": [],
   "source": [
    "plt.figure(figsize=(10, 3))  # Set the figure size\n",
    "\n",
    "# Create a scatter plot to visualize the relationship between 'Total Revenue' and 'Total Quantity' of each product category\n",
    "sns.scatterplot(x=df_Description['Revenue'], y=df_Description['Quantity'])\n",
    "\n",
    "# Add labels to the x- and y-axes\n",
    "plt.xlabel('Revenue')\n",
    "plt.ylabel('Quantity')\n",
    "\n",
    "# Add a title to the plot\n",
    "plt.title('Scatter Plot of Revenue vs. Quantity - Product based')\n",
    "\n",
    "# Show the plot\n",
    "plt.show()"
   ]
  },
  {
   "cell_type": "code",
   "execution_count": null,
   "id": "942c0471",
   "metadata": {},
   "outputs": [],
   "source": [
    "# Create a correlation heatmap to visualize the relationships between 'Total Quantity' and 'Total Revenue' of Product category \n",
    "# The heatmap uses color intensity to represent the strength and direction of the correlation\n",
    "plt.figure(figsize=(10, 2))\n",
    "attributes = ['Quantity','Revenue']\n",
    "correlation_matrix = df_Description[attributes].corr()\n",
    "sns.heatmap(correlation_matrix, annot=True, cmap='coolwarm')\n",
    "plt.title('Correlation Heatmap of product based Quantity and Revenue')\n",
    "plt.show()"
   ]
  },
  {
   "cell_type": "code",
   "execution_count": null,
   "id": "04037a12",
   "metadata": {},
   "outputs": [],
   "source": [
    "# Create the pair plot\n",
    "sns.pairplot(df_Description)\n",
    "\n",
    "# Show the plot\n",
    "plt.show()"
   ]
  },
  {
   "cell_type": "code",
   "execution_count": null,
   "id": "68d3aa8d",
   "metadata": {},
   "outputs": [],
   "source": [
    "# Group the data by Description\n",
    "grouped_df = df.groupby('Description')\n",
    "\n",
    "# Calculate the correlation coefficient between quantity and revenue for each Description\n",
    "correlations = grouped_df.apply(lambda x: x['Quantity'].corr(x['Revenue']))\n",
    "\n",
    "# Filter the data to get the StockCodes with the highest and lowest correlation coefficients\n",
    "highly_positive_10 = correlations[correlations > 0.9].index.tolist()[:10]\n",
    "highly_negative_10 = correlations[correlations < -0.9].index.tolist()[:10]\n",
    "\n",
    "# Filter the data to get the StockCodes with a correlation coefficient close to zero\n",
    "no_relationship_10 = correlations[(correlations < 0.1) & (correlations > -0.1)].index.tolist()[:10]\n",
    "\n",
    "# Print the results\n",
    "print('Highly positive:')\n",
    "print(highly_positive_10)\n",
    "print('Highly negative:')\n",
    "print(highly_negative_10)\n",
    "print('No relationship:')\n",
    "print(no_relationship_10)"
   ]
  },
  {
   "cell_type": "markdown",
   "id": "f5d80b17",
   "metadata": {},
   "source": [
    "### 3.3.4 Product - Av Unit Price - Av Quantity"
   ]
  },
  {
   "cell_type": "code",
   "execution_count": null,
   "id": "b845d998",
   "metadata": {},
   "outputs": [],
   "source": [
    "# Create a pivot table of Description and Average quantity, Average unit price,\n",
    "Product_AverageQ = df.pivot_table(values= ['Quantity','Price' ], index=['Description'], aggfunc='mean')\n",
    "\n",
    "# Reset the index of the pivot table to convert it to a DataFrame\n",
    "df_Product_AverageQ = Product_AverageQ.reset_index()\n",
    "\n",
    "print(df_Product_AverageQ)"
   ]
  },
  {
   "cell_type": "code",
   "execution_count": null,
   "id": "534d8339",
   "metadata": {},
   "outputs": [],
   "source": [
    "# Create a correlation heatmap to visualize the relationships between 'Average Quantity' and 'Average unit price' per product\n",
    "# The heatmap uses color intensity to represent the strength and direction of the correlation\n",
    "plt.figure(figsize=(10, 2))\n",
    "attributes = ['Quantity','Price']\n",
    "correlation_matrix = df_Product_AverageQ[attributes].corr()\n",
    "sns.heatmap(correlation_matrix, annot=True, cmap='coolwarm')\n",
    "plt.title('Correlation Heatmap of product based Average Quantity and Average price')\n",
    "plt.show()"
   ]
  },
  {
   "cell_type": "code",
   "execution_count": null,
   "id": "b3fcf0a9",
   "metadata": {},
   "outputs": [],
   "source": [
    "# Create the pair plot\n",
    "sns.pairplot(df_Product_AverageQ)\n",
    "\n",
    "# Show the plot\n",
    "plt.show()"
   ]
  },
  {
   "cell_type": "markdown",
   "id": "a595b30b",
   "metadata": {},
   "source": [
    "### 4.3.5 Product - Av Unit Price - Av Revenue"
   ]
  },
  {
   "cell_type": "code",
   "execution_count": null,
   "id": "013d7901",
   "metadata": {},
   "outputs": [],
   "source": [
    "# Create a pivot table of Description and Average unit price, Average Revenue\n",
    "Product_AverageR = df.pivot_table(values= ['Revenue','Price' ], index=['Description'], aggfunc='mean')\n",
    "\n",
    "# Reset the index of the pivot table to convert it to a DataFrame\n",
    "df_Product_AverageR = Product_AverageR.reset_index()\n",
    "\n",
    "print(df_Product_AverageR)"
   ]
  },
  {
   "cell_type": "code",
   "execution_count": null,
   "id": "6537d416",
   "metadata": {},
   "outputs": [],
   "source": [
    "# Create a correlation heatmap to visualize the relationships between 'Average unit price' and 'Average Revenue'\n",
    "# The heatmap uses color intensity to represent the strength and direction of the correlation\n",
    "plt.figure(figsize=(10, 2))\n",
    "attributes = ['Revenue','Price']\n",
    "correlation_matrix = df_Product_AverageR[attributes].corr()\n",
    "sns.heatmap(correlation_matrix, annot=True, cmap='coolwarm')\n",
    "plt.title('Correlation Heatmap of product based Average Revenue and Average price')\n",
    "plt.show()"
   ]
  },
  {
   "cell_type": "code",
   "execution_count": null,
   "id": "1f9545cf",
   "metadata": {},
   "outputs": [],
   "source": [
    "# Create the pair plot\n",
    "sns.pairplot(df_Product_AverageR)\n",
    "\n",
    "# Show the plot\n",
    "plt.show()"
   ]
  },
  {
   "cell_type": "markdown",
   "id": "8bce2423",
   "metadata": {},
   "source": [
    "### 4.3.6 Product - Av Quantity - Av Revenue"
   ]
  },
  {
   "cell_type": "code",
   "execution_count": null,
   "id": "f09b30e8",
   "metadata": {},
   "outputs": [],
   "source": [
    "# Create a pivot table of Description and Average quantity, Average Revenue\n",
    "Product_AverageQR = df.pivot_table(values= ['Revenue','Quantity' ], index=['Description'], aggfunc='mean')\n",
    "\n",
    "# Reset the index of the pivot table to convert it to a DataFrame\n",
    "df_Product_AverageQR = Product_AverageQR.reset_index()\n",
    "\n",
    "print(df_Product_AverageQR)"
   ]
  },
  {
   "cell_type": "code",
   "execution_count": null,
   "id": "e3b2dd8c",
   "metadata": {},
   "outputs": [],
   "source": [
    "# Create a correlation heatmap to visualize the relationships between 'Average Quantity' and 'Average Revenue' per product \n",
    "# The heatmap uses color intensity to represent the strength and direction of the correlation\n",
    "plt.figure(figsize=(10, 2))\n",
    "attributes = ['Revenue','Quantity']\n",
    "correlation_matrix = df_Product_AverageQR[attributes].corr()\n",
    "sns.heatmap(correlation_matrix, annot=True, cmap='coolwarm')\n",
    "plt.title('Correlation Heatmap of product based Average Revenue and Average Quantity')\n",
    "plt.show()"
   ]
  },
  {
   "cell_type": "code",
   "execution_count": null,
   "id": "e6ab470a",
   "metadata": {},
   "outputs": [],
   "source": [
    "# Create the pair plot\n",
    "sns.pairplot(df_Product_AverageQR)\n",
    "\n",
    "# Show the plot\n",
    "plt.show()"
   ]
  },
  {
   "cell_type": "markdown",
   "id": "3885b2cc",
   "metadata": {},
   "source": [
    " --------------------------------------------------------------------------------------------------------End ---------------------------------------------------------------------------------------------------"
   ]
  },
  {
   "cell_type": "code",
   "execution_count": null,
   "id": "c943089e",
   "metadata": {},
   "outputs": [],
   "source": []
  }
 ],
 "metadata": {
  "kernelspec": {
   "display_name": "Python 3 (ipykernel)",
   "language": "python",
   "name": "python3"
  },
  "language_info": {
   "codemirror_mode": {
    "name": "ipython",
    "version": 3
   },
   "file_extension": ".py",
   "mimetype": "text/x-python",
   "name": "python",
   "nbconvert_exporter": "python",
   "pygments_lexer": "ipython3",
   "version": "3.11.3"
  }
 },
 "nbformat": 4,
 "nbformat_minor": 5
}
